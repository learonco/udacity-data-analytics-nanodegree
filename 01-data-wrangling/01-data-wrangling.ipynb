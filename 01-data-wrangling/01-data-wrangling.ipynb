{
 "cells": [
  {
   "cell_type": "markdown",
   "metadata": {
    "id": "GNIwe5N7s0e_"
   },
   "source": [
    "# Real-world Data Wrangling"
   ]
  },
  {
   "cell_type": "markdown",
   "metadata": {
    "id": "_BG63Tpg8ep_"
   },
   "source": [
    "In this project, you will apply the skills you acquired in the course to gather and wrangle real-world data with two datasets of your choice.\n",
    "\n",
    "You will retrieve and extract the data, assess the data programmatically and visually, accross elements of data quality and structure, and implement a cleaning strategy for the data. You will then store the updated data into your selected database/data store, combine the data, and answer a research question with the datasets.\n",
    "\n",
    "Throughout the process, you are expected to:\n",
    "\n",
    "1. Explain your decisions towards methods used for gathering, assessing, cleaning, storing, and answering the research question\n",
    "2. Write code comments so your code is more readable"
   ]
  },
  {
   "cell_type": "code",
   "execution_count": 2,
   "metadata": {},
   "outputs": [],
   "source": [
    "import os\n",
    "import kaggle\n",
    "import numpy as np\n",
    "import pandas as pd\n",
    "import seaborn as sns\n",
    "import matplotlib.pyplot as plt"
   ]
  },
  {
   "cell_type": "markdown",
   "metadata": {
    "id": "lDYDkH-Zs7Nn"
   },
   "source": [
    "## 1. Gather data\n",
    "\n",
    "In this section, you will extract data using two different data gathering methods and combine the data. Use at least two different types of data-gathering methods."
   ]
  },
  {
   "cell_type": "markdown",
   "metadata": {
    "id": "LbN7z7rcuqpO"
   },
   "source": [
    "### **1.1.** Problem Statement"
   ]
  },
  {
   "cell_type": "markdown",
   "metadata": {},
   "source": [
    "The purpose of this work is to analize the evolution of the population and air quality index with time by country.  \n",
    "The population data was gathered at country level, the air quality at city level. The latter was aggregated in order to be combined with the former.  \n",
    "\n",
    "Research Questions:\n",
    "- Which are the top 10 countries with better (in average) air quality index?\n",
    "- Is there any relationship between population and air quality index?"
   ]
  },
  {
   "cell_type": "markdown",
   "metadata": {
    "id": "8AQfBAdUypMm"
   },
   "source": [
    "### **1.2.** Gather at least two datasets using two different data gathering methods\n",
    "\n",
    "List of data gathering methods:\n",
    "\n",
    "- Download data manually\n",
    "- Programmatically downloading files\n",
    "- Gather data by accessing APIs\n",
    "- Gather and extract data from HTML files using BeautifulSoup\n",
    "- Extract data from a SQL database\n",
    "\n",
    "Each dataset must have at least two variables, and have greater than 500 data samples within each dataset.\n",
    "\n",
    "For each dataset, briefly describe why you picked the dataset and the gathering method (2-3 full sentences), including the names and significance of the variables in the dataset. Show your work (e.g., if using an API to download the data, please include a snippet of your code). \n",
    "\n",
    "Load the dataset programmtically into this notebook."
   ]
  },
  {
   "cell_type": "markdown",
   "metadata": {
    "id": "7e6gS0wL1KTu"
   },
   "source": [
    "#### **Dataset 1**: World population by country\n",
    "\n",
    "Type: CSV File.\n",
    "\n",
    "Method: Manually downloaded file from Kaggle https://www.kaggle.com/datasets/kaggleashwin/population-dataset\n",
    "\n",
    "Dataset variables:\n",
    "- Country Name: Name of the country\n",
    "- Country Code: Code of the country\n",
    "- 1960,1961,1962,1963,1964,1965,1966,1967,1968,1969,1970,1971,1972,1973,1974,1975,1976,  \n",
    "1977,1978,1979,1980,1981,1982,1983,1984,1985,1986,1987,1988,1989,1990,1991,1992,1993,1994,  \n",
    "1995,1996,1997,1998,1999,2000,2001,2002,2003,2004,2005,2006,2007,2008,2009,2010,2011,2012,  \n",
    "2013,2014,2015,2016,2017,2018,2019,2020,2021: Population for each year\n",
    "\n"
   ]
  },
  {
   "cell_type": "code",
   "execution_count": 3,
   "metadata": {},
   "outputs": [],
   "source": [
    "countries_population = pd.read_csv(\"World-population-by-countries-dataset.csv\")"
   ]
  },
  {
   "cell_type": "markdown",
   "metadata": {
    "id": "hoUjq1tPzz7P"
   },
   "source": [
    "#### **Dataset 2:** Air Quality Index by City\n",
    "\n",
    "Type: CSV File\n",
    "\n",
    "Method: Gathered from Kaggle https://www.kaggle.com/datasets/ramjasmaurya/most-polluted-cities-and-countries-iqair-index?select=AIR+QUALITY+INDEX+%28by+cities%29+-+IQAir.csv\n",
    "\n",
    "\n",
    "Dataset variables:\n",
    "- Rank: Ranking\n",
    "- City: City Name\n",
    "- 2021: Air Quality Index for 2021\n",
    "- JAN(2021),FEB(2021),MAR(2021),APR(2021),MAY(2021),JUN(2021),JUL(2021),  \n",
    "   AUG(2021),SEP(2021),OCT(2021),NOV(2021),DEC(2021): Air Quality Index for each month of 2021\n",
    "- 2020,2019,2018,2017: Air Quality Index for those years\n",
    "\n"
   ]
  },
  {
   "cell_type": "code",
   "execution_count": 160,
   "metadata": {},
   "outputs": [],
   "source": [
    "kaggle.api.authenticate()\n",
    "kaggle.api.dataset_download_files('ramjasmaurya/most-polluted-cities-and-countries-iqair-index', path='./', unzip=True)"
   ]
  },
  {
   "cell_type": "code",
   "execution_count": 5,
   "metadata": {
    "id": "6zT0QxRyYmm7"
   },
   "outputs": [],
   "source": [
    "cities_aqi = pd.read_csv(\"AIR QUALITY INDEX (by cities) - IQAir.csv\")"
   ]
  },
  {
   "cell_type": "markdown",
   "metadata": {
    "id": "QwSWIVmotLgV"
   },
   "source": [
    "## 2. Assess data\n",
    "\n",
    "Assess the data according to data quality and tidiness metrics using the report below.\n",
    "\n",
    "List **two** data quality issues and **two** tidiness issues. Assess each data issue visually **and** programmatically, then briefly describe the issue you find.  **Make sure you include justifications for the methods you use for the assessment.**"
   ]
  },
  {
   "cell_type": "markdown",
   "metadata": {
    "id": "adaK2iPNzVu4"
   },
   "source": [
    "### **Dataset 1**"
   ]
  },
  {
   "cell_type": "markdown",
   "metadata": {},
   "source": [
    "### Quality Issue 1: Completeness"
   ]
  },
  {
   "cell_type": "code",
   "execution_count": 6,
   "metadata": {
    "id": "SpW59kh-zl8d"
   },
   "outputs": [
    {
     "data": {
      "text/html": [
       "<div>\n",
       "<style scoped>\n",
       "    .dataframe tbody tr th:only-of-type {\n",
       "        vertical-align: middle;\n",
       "    }\n",
       "\n",
       "    .dataframe tbody tr th {\n",
       "        vertical-align: top;\n",
       "    }\n",
       "\n",
       "    .dataframe thead th {\n",
       "        text-align: right;\n",
       "    }\n",
       "</style>\n",
       "<table border=\"1\" class=\"dataframe\">\n",
       "  <thead>\n",
       "    <tr style=\"text-align: right;\">\n",
       "      <th></th>\n",
       "      <th>Country Name</th>\n",
       "      <th>Country Code</th>\n",
       "      <th>1960</th>\n",
       "      <th>1961</th>\n",
       "      <th>1962</th>\n",
       "      <th>1963</th>\n",
       "      <th>1964</th>\n",
       "      <th>1965</th>\n",
       "      <th>1966</th>\n",
       "      <th>1967</th>\n",
       "      <th>...</th>\n",
       "      <th>2012</th>\n",
       "      <th>2013</th>\n",
       "      <th>2014</th>\n",
       "      <th>2015</th>\n",
       "      <th>2016</th>\n",
       "      <th>2017</th>\n",
       "      <th>2018</th>\n",
       "      <th>2019</th>\n",
       "      <th>2020</th>\n",
       "      <th>2021</th>\n",
       "    </tr>\n",
       "  </thead>\n",
       "  <tbody>\n",
       "    <tr>\n",
       "      <th>69</th>\n",
       "      <td>Eritrea</td>\n",
       "      <td>ERI</td>\n",
       "      <td>1007586.0</td>\n",
       "      <td>1033320.0</td>\n",
       "      <td>1060489.0</td>\n",
       "      <td>1088859.0</td>\n",
       "      <td>1118152.0</td>\n",
       "      <td>1148188.0</td>\n",
       "      <td>1178875.0</td>\n",
       "      <td>1210304.0</td>\n",
       "      <td>...</td>\n",
       "      <td>NaN</td>\n",
       "      <td>NaN</td>\n",
       "      <td>NaN</td>\n",
       "      <td>NaN</td>\n",
       "      <td>NaN</td>\n",
       "      <td>NaN</td>\n",
       "      <td>NaN</td>\n",
       "      <td>NaN</td>\n",
       "      <td>NaN</td>\n",
       "      <td>NaN</td>\n",
       "    </tr>\n",
       "    <tr>\n",
       "      <th>110</th>\n",
       "      <td>Not classified</td>\n",
       "      <td>INX</td>\n",
       "      <td>NaN</td>\n",
       "      <td>NaN</td>\n",
       "      <td>NaN</td>\n",
       "      <td>NaN</td>\n",
       "      <td>NaN</td>\n",
       "      <td>NaN</td>\n",
       "      <td>NaN</td>\n",
       "      <td>NaN</td>\n",
       "      <td>...</td>\n",
       "      <td>NaN</td>\n",
       "      <td>NaN</td>\n",
       "      <td>NaN</td>\n",
       "      <td>NaN</td>\n",
       "      <td>NaN</td>\n",
       "      <td>NaN</td>\n",
       "      <td>NaN</td>\n",
       "      <td>NaN</td>\n",
       "      <td>NaN</td>\n",
       "      <td>NaN</td>\n",
       "    </tr>\n",
       "    <tr>\n",
       "      <th>127</th>\n",
       "      <td>Kuwait</td>\n",
       "      <td>KWT</td>\n",
       "      <td>269026.0</td>\n",
       "      <td>300581.0</td>\n",
       "      <td>337346.0</td>\n",
       "      <td>378756.0</td>\n",
       "      <td>423900.0</td>\n",
       "      <td>472032.0</td>\n",
       "      <td>523169.0</td>\n",
       "      <td>577164.0</td>\n",
       "      <td>...</td>\n",
       "      <td>3348852.0</td>\n",
       "      <td>3526382.0</td>\n",
       "      <td>3690939.0</td>\n",
       "      <td>3835588.0</td>\n",
       "      <td>3956862.0</td>\n",
       "      <td>4056102.0</td>\n",
       "      <td>4137314.0</td>\n",
       "      <td>4207077.0</td>\n",
       "      <td>4270563.0</td>\n",
       "      <td>4328553.0</td>\n",
       "    </tr>\n",
       "    <tr>\n",
       "      <th>196</th>\n",
       "      <td>West Bank and Gaza</td>\n",
       "      <td>PSE</td>\n",
       "      <td>NaN</td>\n",
       "      <td>NaN</td>\n",
       "      <td>NaN</td>\n",
       "      <td>NaN</td>\n",
       "      <td>NaN</td>\n",
       "      <td>NaN</td>\n",
       "      <td>NaN</td>\n",
       "      <td>NaN</td>\n",
       "      <td>...</td>\n",
       "      <td>3979998.0</td>\n",
       "      <td>4076708.0</td>\n",
       "      <td>4173398.0</td>\n",
       "      <td>4270092.0</td>\n",
       "      <td>4367088.0</td>\n",
       "      <td>4454805.0</td>\n",
       "      <td>4569087.0</td>\n",
       "      <td>4685306.0</td>\n",
       "      <td>4803269.0</td>\n",
       "      <td>4922749.0</td>\n",
       "    </tr>\n",
       "    <tr>\n",
       "      <th>361</th>\n",
       "      <td>West Bank and Gaza</td>\n",
       "      <td>PSE</td>\n",
       "      <td>NaN</td>\n",
       "      <td>NaN</td>\n",
       "      <td>NaN</td>\n",
       "      <td>NaN</td>\n",
       "      <td>NaN</td>\n",
       "      <td>NaN</td>\n",
       "      <td>NaN</td>\n",
       "      <td>NaN</td>\n",
       "      <td>...</td>\n",
       "      <td>3979998.0</td>\n",
       "      <td>4076708.0</td>\n",
       "      <td>4173398.0</td>\n",
       "      <td>4270092.0</td>\n",
       "      <td>4367088.0</td>\n",
       "      <td>4454805.0</td>\n",
       "      <td>4569087.0</td>\n",
       "      <td>4685306.0</td>\n",
       "      <td>4803269.0</td>\n",
       "      <td>4922749.0</td>\n",
       "    </tr>\n",
       "    <tr>\n",
       "      <th>432</th>\n",
       "      <td>Not classified</td>\n",
       "      <td>INX</td>\n",
       "      <td>NaN</td>\n",
       "      <td>NaN</td>\n",
       "      <td>NaN</td>\n",
       "      <td>NaN</td>\n",
       "      <td>NaN</td>\n",
       "      <td>NaN</td>\n",
       "      <td>NaN</td>\n",
       "      <td>NaN</td>\n",
       "      <td>...</td>\n",
       "      <td>NaN</td>\n",
       "      <td>NaN</td>\n",
       "      <td>NaN</td>\n",
       "      <td>NaN</td>\n",
       "      <td>NaN</td>\n",
       "      <td>NaN</td>\n",
       "      <td>NaN</td>\n",
       "      <td>NaN</td>\n",
       "      <td>NaN</td>\n",
       "      <td>NaN</td>\n",
       "    </tr>\n",
       "    <tr>\n",
       "      <th>483</th>\n",
       "      <td>Eritrea</td>\n",
       "      <td>ERI</td>\n",
       "      <td>1007586.0</td>\n",
       "      <td>1033320.0</td>\n",
       "      <td>1060489.0</td>\n",
       "      <td>1088859.0</td>\n",
       "      <td>1118152.0</td>\n",
       "      <td>1148188.0</td>\n",
       "      <td>1178875.0</td>\n",
       "      <td>1210304.0</td>\n",
       "      <td>...</td>\n",
       "      <td>NaN</td>\n",
       "      <td>NaN</td>\n",
       "      <td>NaN</td>\n",
       "      <td>NaN</td>\n",
       "      <td>NaN</td>\n",
       "      <td>NaN</td>\n",
       "      <td>NaN</td>\n",
       "      <td>NaN</td>\n",
       "      <td>NaN</td>\n",
       "      <td>NaN</td>\n",
       "    </tr>\n",
       "    <tr>\n",
       "      <th>497</th>\n",
       "      <td>Kuwait</td>\n",
       "      <td>KWT</td>\n",
       "      <td>269026.0</td>\n",
       "      <td>300581.0</td>\n",
       "      <td>337346.0</td>\n",
       "      <td>378756.0</td>\n",
       "      <td>423900.0</td>\n",
       "      <td>472032.0</td>\n",
       "      <td>523169.0</td>\n",
       "      <td>577164.0</td>\n",
       "      <td>...</td>\n",
       "      <td>3348852.0</td>\n",
       "      <td>3526382.0</td>\n",
       "      <td>3690939.0</td>\n",
       "      <td>3835588.0</td>\n",
       "      <td>3956862.0</td>\n",
       "      <td>4056102.0</td>\n",
       "      <td>4137314.0</td>\n",
       "      <td>4207077.0</td>\n",
       "      <td>4270563.0</td>\n",
       "      <td>4328553.0</td>\n",
       "    </tr>\n",
       "  </tbody>\n",
       "</table>\n",
       "<p>8 rows × 64 columns</p>\n",
       "</div>"
      ],
      "text/plain": [
       "           Country Name Country Code       1960       1961       1962  \\\n",
       "69              Eritrea          ERI  1007586.0  1033320.0  1060489.0   \n",
       "110      Not classified          INX        NaN        NaN        NaN   \n",
       "127              Kuwait          KWT   269026.0   300581.0   337346.0   \n",
       "196  West Bank and Gaza          PSE        NaN        NaN        NaN   \n",
       "361  West Bank and Gaza          PSE        NaN        NaN        NaN   \n",
       "432      Not classified          INX        NaN        NaN        NaN   \n",
       "483             Eritrea          ERI  1007586.0  1033320.0  1060489.0   \n",
       "497              Kuwait          KWT   269026.0   300581.0   337346.0   \n",
       "\n",
       "          1963       1964       1965       1966       1967  ...       2012  \\\n",
       "69   1088859.0  1118152.0  1148188.0  1178875.0  1210304.0  ...        NaN   \n",
       "110        NaN        NaN        NaN        NaN        NaN  ...        NaN   \n",
       "127   378756.0   423900.0   472032.0   523169.0   577164.0  ...  3348852.0   \n",
       "196        NaN        NaN        NaN        NaN        NaN  ...  3979998.0   \n",
       "361        NaN        NaN        NaN        NaN        NaN  ...  3979998.0   \n",
       "432        NaN        NaN        NaN        NaN        NaN  ...        NaN   \n",
       "483  1088859.0  1118152.0  1148188.0  1178875.0  1210304.0  ...        NaN   \n",
       "497   378756.0   423900.0   472032.0   523169.0   577164.0  ...  3348852.0   \n",
       "\n",
       "          2013       2014       2015       2016       2017       2018  \\\n",
       "69         NaN        NaN        NaN        NaN        NaN        NaN   \n",
       "110        NaN        NaN        NaN        NaN        NaN        NaN   \n",
       "127  3526382.0  3690939.0  3835588.0  3956862.0  4056102.0  4137314.0   \n",
       "196  4076708.0  4173398.0  4270092.0  4367088.0  4454805.0  4569087.0   \n",
       "361  4076708.0  4173398.0  4270092.0  4367088.0  4454805.0  4569087.0   \n",
       "432        NaN        NaN        NaN        NaN        NaN        NaN   \n",
       "483        NaN        NaN        NaN        NaN        NaN        NaN   \n",
       "497  3526382.0  3690939.0  3835588.0  3956862.0  4056102.0  4137314.0   \n",
       "\n",
       "          2019       2020       2021  \n",
       "69         NaN        NaN        NaN  \n",
       "110        NaN        NaN        NaN  \n",
       "127  4207077.0  4270563.0  4328553.0  \n",
       "196  4685306.0  4803269.0  4922749.0  \n",
       "361  4685306.0  4803269.0  4922749.0  \n",
       "432        NaN        NaN        NaN  \n",
       "483        NaN        NaN        NaN  \n",
       "497  4207077.0  4270563.0  4328553.0  \n",
       "\n",
       "[8 rows x 64 columns]"
      ]
     },
     "execution_count": 6,
     "metadata": {},
     "output_type": "execute_result"
    }
   ],
   "source": [
    "# Inspecting the dataframe visually\n",
    "countries_population[countries_population.isnull().any(axis=1)]"
   ]
  },
  {
   "cell_type": "code",
   "execution_count": 7,
   "metadata": {
    "id": "-qfcocStzsKg"
   },
   "outputs": [
    {
     "data": {
      "text/plain": [
       "Country Name    0\n",
       "Country Code    0\n",
       "1960            4\n",
       "1961            4\n",
       "1962            4\n",
       "               ..\n",
       "2017            4\n",
       "2018            4\n",
       "2019            4\n",
       "2020            4\n",
       "2021            4\n",
       "Length: 64, dtype: int64"
      ]
     },
     "execution_count": 7,
     "metadata": {},
     "output_type": "execute_result"
    }
   ],
   "source": [
    "#FILL IN - Inspecting the dataframe programmatically\n",
    "countries_population.isnull().sum()"
   ]
  },
  {
   "cell_type": "code",
   "execution_count": 8,
   "metadata": {},
   "outputs": [
    {
     "name": "stdout",
     "output_type": "stream",
     "text": [
      "<class 'pandas.core.frame.DataFrame'>\n",
      "RangeIndex: 532 entries, 0 to 531\n",
      "Data columns (total 64 columns):\n",
      " #   Column        Non-Null Count  Dtype  \n",
      "---  ------        --------------  -----  \n",
      " 0   Country Name  532 non-null    object \n",
      " 1   Country Code  532 non-null    object \n",
      " 2   1960          528 non-null    float64\n",
      " 3   1961          528 non-null    float64\n",
      " 4   1962          528 non-null    float64\n",
      " 5   1963          528 non-null    float64\n",
      " 6   1964          528 non-null    float64\n",
      " 7   1965          528 non-null    float64\n",
      " 8   1966          528 non-null    float64\n",
      " 9   1967          528 non-null    float64\n",
      " 10  1968          528 non-null    float64\n",
      " 11  1969          528 non-null    float64\n",
      " 12  1970          528 non-null    float64\n",
      " 13  1971          528 non-null    float64\n",
      " 14  1972          528 non-null    float64\n",
      " 15  1973          528 non-null    float64\n",
      " 16  1974          528 non-null    float64\n",
      " 17  1975          528 non-null    float64\n",
      " 18  1976          528 non-null    float64\n",
      " 19  1977          528 non-null    float64\n",
      " 20  1978          528 non-null    float64\n",
      " 21  1979          528 non-null    float64\n",
      " 22  1980          528 non-null    float64\n",
      " 23  1981          528 non-null    float64\n",
      " 24  1982          528 non-null    float64\n",
      " 25  1983          528 non-null    float64\n",
      " 26  1984          528 non-null    float64\n",
      " 27  1985          528 non-null    float64\n",
      " 28  1986          528 non-null    float64\n",
      " 29  1987          528 non-null    float64\n",
      " 30  1988          528 non-null    float64\n",
      " 31  1989          528 non-null    float64\n",
      " 32  1990          530 non-null    float64\n",
      " 33  1991          530 non-null    float64\n",
      " 34  1992          528 non-null    float64\n",
      " 35  1993          528 non-null    float64\n",
      " 36  1994          528 non-null    float64\n",
      " 37  1995          530 non-null    float64\n",
      " 38  1996          530 non-null    float64\n",
      " 39  1997          530 non-null    float64\n",
      " 40  1998          530 non-null    float64\n",
      " 41  1999          530 non-null    float64\n",
      " 42  2000          530 non-null    float64\n",
      " 43  2001          530 non-null    float64\n",
      " 44  2002          530 non-null    float64\n",
      " 45  2003          530 non-null    float64\n",
      " 46  2004          530 non-null    float64\n",
      " 47  2005          530 non-null    float64\n",
      " 48  2006          530 non-null    float64\n",
      " 49  2007          530 non-null    float64\n",
      " 50  2008          530 non-null    float64\n",
      " 51  2009          530 non-null    float64\n",
      " 52  2010          530 non-null    float64\n",
      " 53  2011          530 non-null    float64\n",
      " 54  2012          528 non-null    float64\n",
      " 55  2013          528 non-null    float64\n",
      " 56  2014          528 non-null    float64\n",
      " 57  2015          528 non-null    float64\n",
      " 58  2016          528 non-null    float64\n",
      " 59  2017          528 non-null    float64\n",
      " 60  2018          528 non-null    float64\n",
      " 61  2019          528 non-null    float64\n",
      " 62  2020          528 non-null    float64\n",
      " 63  2021          528 non-null    float64\n",
      "dtypes: float64(62), object(2)\n",
      "memory usage: 266.1+ KB\n"
     ]
    }
   ],
   "source": [
    "countries_population.info()"
   ]
  },
  {
   "cell_type": "markdown",
   "metadata": {},
   "source": [
    "There are eight rows with at least one missing value, what represents a Completness issue.  \n",
    "The \"Not classified\" record, has all its value missing.  \n",
    "Other records have some of them empty.  \n",
    "The missing value is correctly represented."
   ]
  },
  {
   "cell_type": "markdown",
   "metadata": {
    "id": "8Be77N4I1AmE"
   },
   "source": [
    "### Quality Issue 2: Uniqueness"
   ]
  },
  {
   "cell_type": "code",
   "execution_count": 9,
   "metadata": {
    "id": "iMhHyiyLM2I3"
   },
   "outputs": [
    {
     "data": {
      "text/plain": [
       "266"
      ]
     },
     "execution_count": 9,
     "metadata": {},
     "output_type": "execute_result"
    }
   ],
   "source": [
    "#FILL IN - Inspecting the dataframe v)isually\n",
    "sum(countries_population.duplicated())"
   ]
  },
  {
   "cell_type": "code",
   "execution_count": 10,
   "metadata": {},
   "outputs": [
    {
     "data": {
      "text/html": [
       "<div>\n",
       "<style scoped>\n",
       "    .dataframe tbody tr th:only-of-type {\n",
       "        vertical-align: middle;\n",
       "    }\n",
       "\n",
       "    .dataframe tbody tr th {\n",
       "        vertical-align: top;\n",
       "    }\n",
       "\n",
       "    .dataframe thead th {\n",
       "        text-align: right;\n",
       "    }\n",
       "</style>\n",
       "<table border=\"1\" class=\"dataframe\">\n",
       "  <thead>\n",
       "    <tr style=\"text-align: right;\">\n",
       "      <th></th>\n",
       "      <th>Country Name</th>\n",
       "      <th>Country Code</th>\n",
       "      <th>1960</th>\n",
       "      <th>1961</th>\n",
       "      <th>1962</th>\n",
       "      <th>1963</th>\n",
       "      <th>1964</th>\n",
       "      <th>1965</th>\n",
       "      <th>1966</th>\n",
       "      <th>1967</th>\n",
       "      <th>...</th>\n",
       "      <th>2012</th>\n",
       "      <th>2013</th>\n",
       "      <th>2014</th>\n",
       "      <th>2015</th>\n",
       "      <th>2016</th>\n",
       "      <th>2017</th>\n",
       "      <th>2018</th>\n",
       "      <th>2019</th>\n",
       "      <th>2020</th>\n",
       "      <th>2021</th>\n",
       "    </tr>\n",
       "  </thead>\n",
       "  <tbody>\n",
       "    <tr>\n",
       "      <th>9</th>\n",
       "      <td>Argentina</td>\n",
       "      <td>ARG</td>\n",
       "      <td>20481781.0</td>\n",
       "      <td>20817270.0</td>\n",
       "      <td>21153042.0</td>\n",
       "      <td>21488916.0</td>\n",
       "      <td>21824427.0</td>\n",
       "      <td>22159644.0</td>\n",
       "      <td>22494031.0</td>\n",
       "      <td>22828872.0</td>\n",
       "      <td>...</td>\n",
       "      <td>41733271.0</td>\n",
       "      <td>42202935.0</td>\n",
       "      <td>42669500.0</td>\n",
       "      <td>43131966.0</td>\n",
       "      <td>43590368.0</td>\n",
       "      <td>44044811.0</td>\n",
       "      <td>44494502.0</td>\n",
       "      <td>44938712.0</td>\n",
       "      <td>45376763.0</td>\n",
       "      <td>45808747.0</td>\n",
       "    </tr>\n",
       "    <tr>\n",
       "      <th>390</th>\n",
       "      <td>Argentina</td>\n",
       "      <td>ARG</td>\n",
       "      <td>20481781.0</td>\n",
       "      <td>20817270.0</td>\n",
       "      <td>21153042.0</td>\n",
       "      <td>21488916.0</td>\n",
       "      <td>21824427.0</td>\n",
       "      <td>22159644.0</td>\n",
       "      <td>22494031.0</td>\n",
       "      <td>22828872.0</td>\n",
       "      <td>...</td>\n",
       "      <td>41733271.0</td>\n",
       "      <td>42202935.0</td>\n",
       "      <td>42669500.0</td>\n",
       "      <td>43131966.0</td>\n",
       "      <td>43590368.0</td>\n",
       "      <td>44044811.0</td>\n",
       "      <td>44494502.0</td>\n",
       "      <td>44938712.0</td>\n",
       "      <td>45376763.0</td>\n",
       "      <td>45808747.0</td>\n",
       "    </tr>\n",
       "  </tbody>\n",
       "</table>\n",
       "<p>2 rows × 64 columns</p>\n",
       "</div>"
      ],
      "text/plain": [
       "    Country Name Country Code        1960        1961        1962        1963  \\\n",
       "9      Argentina          ARG  20481781.0  20817270.0  21153042.0  21488916.0   \n",
       "390    Argentina          ARG  20481781.0  20817270.0  21153042.0  21488916.0   \n",
       "\n",
       "           1964        1965        1966        1967  ...        2012  \\\n",
       "9    21824427.0  22159644.0  22494031.0  22828872.0  ...  41733271.0   \n",
       "390  21824427.0  22159644.0  22494031.0  22828872.0  ...  41733271.0   \n",
       "\n",
       "           2013        2014        2015        2016        2017        2018  \\\n",
       "9    42202935.0  42669500.0  43131966.0  43590368.0  44044811.0  44494502.0   \n",
       "390  42202935.0  42669500.0  43131966.0  43590368.0  44044811.0  44494502.0   \n",
       "\n",
       "           2019        2020        2021  \n",
       "9    44938712.0  45376763.0  45808747.0  \n",
       "390  44938712.0  45376763.0  45808747.0  \n",
       "\n",
       "[2 rows x 64 columns]"
      ]
     },
     "execution_count": 10,
     "metadata": {},
     "output_type": "execute_result"
    }
   ],
   "source": [
    "countries_population[countries_population['Country Name'] == 'Argentina']"
   ]
  },
  {
   "cell_type": "markdown",
   "metadata": {},
   "source": [
    "The dataset has duplicate values"
   ]
  },
  {
   "cell_type": "markdown",
   "metadata": {
    "id": "lXhGiYyiwwKN"
   },
   "source": [
    "### Tidiness Issue 1: Column headers are values not names."
   ]
  },
  {
   "cell_type": "code",
   "execution_count": 11,
   "metadata": {
    "id": "fleC5rORI0Xl"
   },
   "outputs": [
    {
     "data": {
      "text/html": [
       "<div>\n",
       "<style scoped>\n",
       "    .dataframe tbody tr th:only-of-type {\n",
       "        vertical-align: middle;\n",
       "    }\n",
       "\n",
       "    .dataframe tbody tr th {\n",
       "        vertical-align: top;\n",
       "    }\n",
       "\n",
       "    .dataframe thead th {\n",
       "        text-align: right;\n",
       "    }\n",
       "</style>\n",
       "<table border=\"1\" class=\"dataframe\">\n",
       "  <thead>\n",
       "    <tr style=\"text-align: right;\">\n",
       "      <th></th>\n",
       "      <th>Country Name</th>\n",
       "      <th>Country Code</th>\n",
       "      <th>1960</th>\n",
       "      <th>1961</th>\n",
       "      <th>1962</th>\n",
       "      <th>1963</th>\n",
       "      <th>1964</th>\n",
       "      <th>1965</th>\n",
       "      <th>1966</th>\n",
       "      <th>1967</th>\n",
       "      <th>...</th>\n",
       "      <th>2012</th>\n",
       "      <th>2013</th>\n",
       "      <th>2014</th>\n",
       "      <th>2015</th>\n",
       "      <th>2016</th>\n",
       "      <th>2017</th>\n",
       "      <th>2018</th>\n",
       "      <th>2019</th>\n",
       "      <th>2020</th>\n",
       "      <th>2021</th>\n",
       "    </tr>\n",
       "  </thead>\n",
       "  <tbody>\n",
       "    <tr>\n",
       "      <th>0</th>\n",
       "      <td>Aruba</td>\n",
       "      <td>ABW</td>\n",
       "      <td>54208.0</td>\n",
       "      <td>55434.0</td>\n",
       "      <td>56234.0</td>\n",
       "      <td>56699.0</td>\n",
       "      <td>57029.0</td>\n",
       "      <td>57357.0</td>\n",
       "      <td>57702.0</td>\n",
       "      <td>58044.0</td>\n",
       "      <td>...</td>\n",
       "      <td>102565.0</td>\n",
       "      <td>103165.0</td>\n",
       "      <td>103776.0</td>\n",
       "      <td>104339.0</td>\n",
       "      <td>104865.0</td>\n",
       "      <td>105361.0</td>\n",
       "      <td>105846.0</td>\n",
       "      <td>106310.0</td>\n",
       "      <td>106766.0</td>\n",
       "      <td>107195.0</td>\n",
       "    </tr>\n",
       "    <tr>\n",
       "      <th>1</th>\n",
       "      <td>Africa Eastern and Southern</td>\n",
       "      <td>AFE</td>\n",
       "      <td>130836765.0</td>\n",
       "      <td>134159786.0</td>\n",
       "      <td>137614644.0</td>\n",
       "      <td>141202036.0</td>\n",
       "      <td>144920186.0</td>\n",
       "      <td>148769974.0</td>\n",
       "      <td>152752671.0</td>\n",
       "      <td>156876454.0</td>\n",
       "      <td>...</td>\n",
       "      <td>547482863.0</td>\n",
       "      <td>562601578.0</td>\n",
       "      <td>578075373.0</td>\n",
       "      <td>593871847.0</td>\n",
       "      <td>609978946.0</td>\n",
       "      <td>626392880.0</td>\n",
       "      <td>643090131.0</td>\n",
       "      <td>660046272.0</td>\n",
       "      <td>677243299.0</td>\n",
       "      <td>694665117.0</td>\n",
       "    </tr>\n",
       "    <tr>\n",
       "      <th>2</th>\n",
       "      <td>Afghanistan</td>\n",
       "      <td>AFG</td>\n",
       "      <td>8996967.0</td>\n",
       "      <td>9169406.0</td>\n",
       "      <td>9351442.0</td>\n",
       "      <td>9543200.0</td>\n",
       "      <td>9744772.0</td>\n",
       "      <td>9956318.0</td>\n",
       "      <td>10174840.0</td>\n",
       "      <td>10399936.0</td>\n",
       "      <td>...</td>\n",
       "      <td>31161378.0</td>\n",
       "      <td>32269592.0</td>\n",
       "      <td>33370804.0</td>\n",
       "      <td>34413603.0</td>\n",
       "      <td>35383028.0</td>\n",
       "      <td>36296111.0</td>\n",
       "      <td>37171922.0</td>\n",
       "      <td>38041757.0</td>\n",
       "      <td>38928341.0</td>\n",
       "      <td>39835428.0</td>\n",
       "    </tr>\n",
       "    <tr>\n",
       "      <th>3</th>\n",
       "      <td>Africa Western and Central</td>\n",
       "      <td>AFW</td>\n",
       "      <td>96396419.0</td>\n",
       "      <td>98407221.0</td>\n",
       "      <td>100506960.0</td>\n",
       "      <td>102691339.0</td>\n",
       "      <td>104953470.0</td>\n",
       "      <td>107289875.0</td>\n",
       "      <td>109701811.0</td>\n",
       "      <td>112195950.0</td>\n",
       "      <td>...</td>\n",
       "      <td>370243017.0</td>\n",
       "      <td>380437896.0</td>\n",
       "      <td>390882979.0</td>\n",
       "      <td>401586651.0</td>\n",
       "      <td>412551299.0</td>\n",
       "      <td>423769930.0</td>\n",
       "      <td>435229381.0</td>\n",
       "      <td>446911598.0</td>\n",
       "      <td>458803476.0</td>\n",
       "      <td>470898870.0</td>\n",
       "    </tr>\n",
       "    <tr>\n",
       "      <th>4</th>\n",
       "      <td>Angola</td>\n",
       "      <td>AGO</td>\n",
       "      <td>5454938.0</td>\n",
       "      <td>5531451.0</td>\n",
       "      <td>5608499.0</td>\n",
       "      <td>5679409.0</td>\n",
       "      <td>5734995.0</td>\n",
       "      <td>5770573.0</td>\n",
       "      <td>5781305.0</td>\n",
       "      <td>5774440.0</td>\n",
       "      <td>...</td>\n",
       "      <td>25107925.0</td>\n",
       "      <td>26015786.0</td>\n",
       "      <td>26941773.0</td>\n",
       "      <td>27884380.0</td>\n",
       "      <td>28842482.0</td>\n",
       "      <td>29816769.0</td>\n",
       "      <td>30809787.0</td>\n",
       "      <td>31825299.0</td>\n",
       "      <td>32866268.0</td>\n",
       "      <td>33933611.0</td>\n",
       "    </tr>\n",
       "  </tbody>\n",
       "</table>\n",
       "<p>5 rows × 64 columns</p>\n",
       "</div>"
      ],
      "text/plain": [
       "                  Country Name Country Code         1960         1961  \\\n",
       "0                        Aruba          ABW      54208.0      55434.0   \n",
       "1  Africa Eastern and Southern          AFE  130836765.0  134159786.0   \n",
       "2                  Afghanistan          AFG    8996967.0    9169406.0   \n",
       "3   Africa Western and Central          AFW   96396419.0   98407221.0   \n",
       "4                       Angola          AGO    5454938.0    5531451.0   \n",
       "\n",
       "          1962         1963         1964         1965         1966  \\\n",
       "0      56234.0      56699.0      57029.0      57357.0      57702.0   \n",
       "1  137614644.0  141202036.0  144920186.0  148769974.0  152752671.0   \n",
       "2    9351442.0    9543200.0    9744772.0    9956318.0   10174840.0   \n",
       "3  100506960.0  102691339.0  104953470.0  107289875.0  109701811.0   \n",
       "4    5608499.0    5679409.0    5734995.0    5770573.0    5781305.0   \n",
       "\n",
       "          1967  ...         2012         2013         2014         2015  \\\n",
       "0      58044.0  ...     102565.0     103165.0     103776.0     104339.0   \n",
       "1  156876454.0  ...  547482863.0  562601578.0  578075373.0  593871847.0   \n",
       "2   10399936.0  ...   31161378.0   32269592.0   33370804.0   34413603.0   \n",
       "3  112195950.0  ...  370243017.0  380437896.0  390882979.0  401586651.0   \n",
       "4    5774440.0  ...   25107925.0   26015786.0   26941773.0   27884380.0   \n",
       "\n",
       "          2016         2017         2018         2019         2020  \\\n",
       "0     104865.0     105361.0     105846.0     106310.0     106766.0   \n",
       "1  609978946.0  626392880.0  643090131.0  660046272.0  677243299.0   \n",
       "2   35383028.0   36296111.0   37171922.0   38041757.0   38928341.0   \n",
       "3  412551299.0  423769930.0  435229381.0  446911598.0  458803476.0   \n",
       "4   28842482.0   29816769.0   30809787.0   31825299.0   32866268.0   \n",
       "\n",
       "          2021  \n",
       "0     107195.0  \n",
       "1  694665117.0  \n",
       "2   39835428.0  \n",
       "3  470898870.0  \n",
       "4   33933611.0  \n",
       "\n",
       "[5 rows x 64 columns]"
      ]
     },
     "execution_count": 11,
     "metadata": {},
     "output_type": "execute_result"
    }
   ],
   "source": [
    "#FILL IN - Inspecting the dataframe visually\n",
    "countries_population.head(5)"
   ]
  },
  {
   "cell_type": "markdown",
   "metadata": {},
   "source": [
    "All the columns names that are years, should be values in a column named year, for example."
   ]
  },
  {
   "cell_type": "markdown",
   "metadata": {
    "id": "4ffMoRGSwzYj"
   },
   "source": [
    "### Tidiness Issue 2: Multiple types of observational units are stored in the same table. "
   ]
  },
  {
   "cell_type": "markdown",
   "metadata": {},
   "source": [
    "There are records that do not represent countries, for these records the Country code is a makeup of the first initial letters.  \n",
    "On the other side,  there are different codes to identify a country: ISO 3166-1 alphas, FIPS, IOC and TLD.  \n",
    "In this dataset, the code corresponde to ISO 3166-1 alpha-3. This could have been used as column name.\n",
    "\n",
    "The table has data for not only countries, but regions and different grouping of populations.  \n",
    "Those types should be stored in a different table"
   ]
  },
  {
   "cell_type": "code",
   "execution_count": 12,
   "metadata": {},
   "outputs": [
    {
     "data": {
      "text/html": [
       "<div>\n",
       "<style scoped>\n",
       "    .dataframe tbody tr th:only-of-type {\n",
       "        vertical-align: middle;\n",
       "    }\n",
       "\n",
       "    .dataframe tbody tr th {\n",
       "        vertical-align: top;\n",
       "    }\n",
       "\n",
       "    .dataframe thead th {\n",
       "        text-align: right;\n",
       "    }\n",
       "</style>\n",
       "<table border=\"1\" class=\"dataframe\">\n",
       "  <thead>\n",
       "    <tr style=\"text-align: right;\">\n",
       "      <th></th>\n",
       "      <th>Country Name</th>\n",
       "      <th>Country Code</th>\n",
       "      <th>1960</th>\n",
       "      <th>1961</th>\n",
       "      <th>1962</th>\n",
       "      <th>1963</th>\n",
       "      <th>1964</th>\n",
       "      <th>1965</th>\n",
       "      <th>1966</th>\n",
       "      <th>1967</th>\n",
       "      <th>...</th>\n",
       "      <th>2012</th>\n",
       "      <th>2013</th>\n",
       "      <th>2014</th>\n",
       "      <th>2015</th>\n",
       "      <th>2016</th>\n",
       "      <th>2017</th>\n",
       "      <th>2018</th>\n",
       "      <th>2019</th>\n",
       "      <th>2020</th>\n",
       "      <th>2021</th>\n",
       "    </tr>\n",
       "  </thead>\n",
       "  <tbody>\n",
       "    <tr>\n",
       "      <th>61</th>\n",
       "      <td>East Asia &amp; Pacific (excluding high income)</td>\n",
       "      <td>EAP</td>\n",
       "      <td>894885526.0</td>\n",
       "      <td>894489549.0</td>\n",
       "      <td>906424232.0</td>\n",
       "      <td>929645285.0</td>\n",
       "      <td>952505018.0</td>\n",
       "      <td>976371564.0</td>\n",
       "      <td>1.003811e+09</td>\n",
       "      <td>1.030352e+09</td>\n",
       "      <td>...</td>\n",
       "      <td>1.997903e+09</td>\n",
       "      <td>2.014797e+09</td>\n",
       "      <td>2.031204e+09</td>\n",
       "      <td>2.046848e+09</td>\n",
       "      <td>2.062250e+09</td>\n",
       "      <td>2.077989e+09</td>\n",
       "      <td>2.091698e+09</td>\n",
       "      <td>2.103723e+09</td>\n",
       "      <td>2.114009e+09</td>\n",
       "      <td>2.122086e+09</td>\n",
       "    </tr>\n",
       "    <tr>\n",
       "      <th>64</th>\n",
       "      <td>Europe &amp; Central Asia (excluding high income)</td>\n",
       "      <td>ECA</td>\n",
       "      <td>256240323.0</td>\n",
       "      <td>260376316.0</td>\n",
       "      <td>264562393.0</td>\n",
       "      <td>268766831.0</td>\n",
       "      <td>272959744.0</td>\n",
       "      <td>277095486.0</td>\n",
       "      <td>2.804976e+08</td>\n",
       "      <td>2.838327e+08</td>\n",
       "      <td>...</td>\n",
       "      <td>3.824769e+08</td>\n",
       "      <td>3.850509e+08</td>\n",
       "      <td>3.876219e+08</td>\n",
       "      <td>3.902580e+08</td>\n",
       "      <td>3.928362e+08</td>\n",
       "      <td>3.952575e+08</td>\n",
       "      <td>3.974061e+08</td>\n",
       "      <td>3.993861e+08</td>\n",
       "      <td>4.008960e+08</td>\n",
       "      <td>4.018289e+08</td>\n",
       "    </tr>\n",
       "    <tr>\n",
       "      <th>128</th>\n",
       "      <td>Latin America &amp; Caribbean (excluding high income)</td>\n",
       "      <td>LAC</td>\n",
       "      <td>195990480.0</td>\n",
       "      <td>201468291.0</td>\n",
       "      <td>207117533.0</td>\n",
       "      <td>212913161.0</td>\n",
       "      <td>218820356.0</td>\n",
       "      <td>224812280.0</td>\n",
       "      <td>2.308801e+08</td>\n",
       "      <td>2.370242e+08</td>\n",
       "      <td>...</td>\n",
       "      <td>5.428608e+08</td>\n",
       "      <td>5.487167e+08</td>\n",
       "      <td>5.546329e+08</td>\n",
       "      <td>5.606499e+08</td>\n",
       "      <td>5.668014e+08</td>\n",
       "      <td>5.730449e+08</td>\n",
       "      <td>5.792552e+08</td>\n",
       "      <td>5.852573e+08</td>\n",
       "      <td>5.909282e+08</td>\n",
       "      <td>5.962176e+08</td>\n",
       "    </tr>\n",
       "    <tr>\n",
       "      <th>161</th>\n",
       "      <td>Middle East &amp; North Africa (excluding high inc...</td>\n",
       "      <td>MNA</td>\n",
       "      <td>97553136.0</td>\n",
       "      <td>100147125.0</td>\n",
       "      <td>102808039.0</td>\n",
       "      <td>105546241.0</td>\n",
       "      <td>108376349.0</td>\n",
       "      <td>111307810.0</td>\n",
       "      <td>1.143518e+08</td>\n",
       "      <td>1.175038e+08</td>\n",
       "      <td>...</td>\n",
       "      <td>3.449984e+08</td>\n",
       "      <td>3.512904e+08</td>\n",
       "      <td>3.576298e+08</td>\n",
       "      <td>3.639756e+08</td>\n",
       "      <td>3.702940e+08</td>\n",
       "      <td>3.765885e+08</td>\n",
       "      <td>3.829552e+08</td>\n",
       "      <td>3.894571e+08</td>\n",
       "      <td>3.961478e+08</td>\n",
       "      <td>4.030516e+08</td>\n",
       "    </tr>\n",
       "    <tr>\n",
       "      <th>215</th>\n",
       "      <td>Sub-Saharan Africa (excluding high income)</td>\n",
       "      <td>SSA</td>\n",
       "      <td>227191484.0</td>\n",
       "      <td>232524118.0</td>\n",
       "      <td>238077562.0</td>\n",
       "      <td>243848199.0</td>\n",
       "      <td>249827334.0</td>\n",
       "      <td>256012349.0</td>\n",
       "      <td>2.624058e+08</td>\n",
       "      <td>2.690225e+08</td>\n",
       "      <td>...</td>\n",
       "      <td>9.176376e+08</td>\n",
       "      <td>9.429495e+08</td>\n",
       "      <td>9.688670e+08</td>\n",
       "      <td>9.953651e+08</td>\n",
       "      <td>1.022436e+09</td>\n",
       "      <td>1.050067e+09</td>\n",
       "      <td>1.078223e+09</td>\n",
       "      <td>1.106860e+09</td>\n",
       "      <td>1.135948e+09</td>\n",
       "      <td>1.165465e+09</td>\n",
       "    </tr>\n",
       "    <tr>\n",
       "      <th>288</th>\n",
       "      <td>Latin America &amp; Caribbean (excluding high income)</td>\n",
       "      <td>LAC</td>\n",
       "      <td>195990480.0</td>\n",
       "      <td>201468291.0</td>\n",
       "      <td>207117533.0</td>\n",
       "      <td>212913161.0</td>\n",
       "      <td>218820356.0</td>\n",
       "      <td>224812280.0</td>\n",
       "      <td>2.308801e+08</td>\n",
       "      <td>2.370242e+08</td>\n",
       "      <td>...</td>\n",
       "      <td>5.428608e+08</td>\n",
       "      <td>5.487167e+08</td>\n",
       "      <td>5.546329e+08</td>\n",
       "      <td>5.606499e+08</td>\n",
       "      <td>5.668014e+08</td>\n",
       "      <td>5.730449e+08</td>\n",
       "      <td>5.792552e+08</td>\n",
       "      <td>5.852573e+08</td>\n",
       "      <td>5.909282e+08</td>\n",
       "      <td>5.962176e+08</td>\n",
       "    </tr>\n",
       "    <tr>\n",
       "      <th>304</th>\n",
       "      <td>Sub-Saharan Africa (excluding high income)</td>\n",
       "      <td>SSA</td>\n",
       "      <td>227191484.0</td>\n",
       "      <td>232524118.0</td>\n",
       "      <td>238077562.0</td>\n",
       "      <td>243848199.0</td>\n",
       "      <td>249827334.0</td>\n",
       "      <td>256012349.0</td>\n",
       "      <td>2.624058e+08</td>\n",
       "      <td>2.690225e+08</td>\n",
       "      <td>...</td>\n",
       "      <td>9.176376e+08</td>\n",
       "      <td>9.429495e+08</td>\n",
       "      <td>9.688670e+08</td>\n",
       "      <td>9.953651e+08</td>\n",
       "      <td>1.022436e+09</td>\n",
       "      <td>1.050067e+09</td>\n",
       "      <td>1.078223e+09</td>\n",
       "      <td>1.106860e+09</td>\n",
       "      <td>1.135948e+09</td>\n",
       "      <td>1.165465e+09</td>\n",
       "    </tr>\n",
       "    <tr>\n",
       "      <th>325</th>\n",
       "      <td>Middle East &amp; North Africa (excluding high inc...</td>\n",
       "      <td>MNA</td>\n",
       "      <td>97553136.0</td>\n",
       "      <td>100147125.0</td>\n",
       "      <td>102808039.0</td>\n",
       "      <td>105546241.0</td>\n",
       "      <td>108376349.0</td>\n",
       "      <td>111307810.0</td>\n",
       "      <td>1.143518e+08</td>\n",
       "      <td>1.175038e+08</td>\n",
       "      <td>...</td>\n",
       "      <td>3.449984e+08</td>\n",
       "      <td>3.512904e+08</td>\n",
       "      <td>3.576298e+08</td>\n",
       "      <td>3.639756e+08</td>\n",
       "      <td>3.702940e+08</td>\n",
       "      <td>3.765885e+08</td>\n",
       "      <td>3.829552e+08</td>\n",
       "      <td>3.894571e+08</td>\n",
       "      <td>3.961478e+08</td>\n",
       "      <td>4.030516e+08</td>\n",
       "    </tr>\n",
       "    <tr>\n",
       "      <th>370</th>\n",
       "      <td>Europe &amp; Central Asia (excluding high income)</td>\n",
       "      <td>ECA</td>\n",
       "      <td>256240323.0</td>\n",
       "      <td>260376316.0</td>\n",
       "      <td>264562393.0</td>\n",
       "      <td>268766831.0</td>\n",
       "      <td>272959744.0</td>\n",
       "      <td>277095486.0</td>\n",
       "      <td>2.804976e+08</td>\n",
       "      <td>2.838327e+08</td>\n",
       "      <td>...</td>\n",
       "      <td>3.824769e+08</td>\n",
       "      <td>3.850509e+08</td>\n",
       "      <td>3.876219e+08</td>\n",
       "      <td>3.902580e+08</td>\n",
       "      <td>3.928362e+08</td>\n",
       "      <td>3.952575e+08</td>\n",
       "      <td>3.974061e+08</td>\n",
       "      <td>3.993861e+08</td>\n",
       "      <td>4.008960e+08</td>\n",
       "      <td>4.018289e+08</td>\n",
       "    </tr>\n",
       "    <tr>\n",
       "      <th>371</th>\n",
       "      <td>East Asia &amp; Pacific (excluding high income)</td>\n",
       "      <td>EAP</td>\n",
       "      <td>894885526.0</td>\n",
       "      <td>894489549.0</td>\n",
       "      <td>906424232.0</td>\n",
       "      <td>929645285.0</td>\n",
       "      <td>952505018.0</td>\n",
       "      <td>976371564.0</td>\n",
       "      <td>1.003811e+09</td>\n",
       "      <td>1.030352e+09</td>\n",
       "      <td>...</td>\n",
       "      <td>1.997903e+09</td>\n",
       "      <td>2.014797e+09</td>\n",
       "      <td>2.031204e+09</td>\n",
       "      <td>2.046848e+09</td>\n",
       "      <td>2.062250e+09</td>\n",
       "      <td>2.077989e+09</td>\n",
       "      <td>2.091698e+09</td>\n",
       "      <td>2.103723e+09</td>\n",
       "      <td>2.114009e+09</td>\n",
       "      <td>2.122086e+09</td>\n",
       "    </tr>\n",
       "  </tbody>\n",
       "</table>\n",
       "<p>10 rows × 64 columns</p>\n",
       "</div>"
      ],
      "text/plain": [
       "                                          Country Name Country Code  \\\n",
       "61         East Asia & Pacific (excluding high income)          EAP   \n",
       "64       Europe & Central Asia (excluding high income)          ECA   \n",
       "128  Latin America & Caribbean (excluding high income)          LAC   \n",
       "161  Middle East & North Africa (excluding high inc...          MNA   \n",
       "215         Sub-Saharan Africa (excluding high income)          SSA   \n",
       "288  Latin America & Caribbean (excluding high income)          LAC   \n",
       "304         Sub-Saharan Africa (excluding high income)          SSA   \n",
       "325  Middle East & North Africa (excluding high inc...          MNA   \n",
       "370      Europe & Central Asia (excluding high income)          ECA   \n",
       "371        East Asia & Pacific (excluding high income)          EAP   \n",
       "\n",
       "            1960         1961         1962         1963         1964  \\\n",
       "61   894885526.0  894489549.0  906424232.0  929645285.0  952505018.0   \n",
       "64   256240323.0  260376316.0  264562393.0  268766831.0  272959744.0   \n",
       "128  195990480.0  201468291.0  207117533.0  212913161.0  218820356.0   \n",
       "161   97553136.0  100147125.0  102808039.0  105546241.0  108376349.0   \n",
       "215  227191484.0  232524118.0  238077562.0  243848199.0  249827334.0   \n",
       "288  195990480.0  201468291.0  207117533.0  212913161.0  218820356.0   \n",
       "304  227191484.0  232524118.0  238077562.0  243848199.0  249827334.0   \n",
       "325   97553136.0  100147125.0  102808039.0  105546241.0  108376349.0   \n",
       "370  256240323.0  260376316.0  264562393.0  268766831.0  272959744.0   \n",
       "371  894885526.0  894489549.0  906424232.0  929645285.0  952505018.0   \n",
       "\n",
       "            1965          1966          1967  ...          2012          2013  \\\n",
       "61   976371564.0  1.003811e+09  1.030352e+09  ...  1.997903e+09  2.014797e+09   \n",
       "64   277095486.0  2.804976e+08  2.838327e+08  ...  3.824769e+08  3.850509e+08   \n",
       "128  224812280.0  2.308801e+08  2.370242e+08  ...  5.428608e+08  5.487167e+08   \n",
       "161  111307810.0  1.143518e+08  1.175038e+08  ...  3.449984e+08  3.512904e+08   \n",
       "215  256012349.0  2.624058e+08  2.690225e+08  ...  9.176376e+08  9.429495e+08   \n",
       "288  224812280.0  2.308801e+08  2.370242e+08  ...  5.428608e+08  5.487167e+08   \n",
       "304  256012349.0  2.624058e+08  2.690225e+08  ...  9.176376e+08  9.429495e+08   \n",
       "325  111307810.0  1.143518e+08  1.175038e+08  ...  3.449984e+08  3.512904e+08   \n",
       "370  277095486.0  2.804976e+08  2.838327e+08  ...  3.824769e+08  3.850509e+08   \n",
       "371  976371564.0  1.003811e+09  1.030352e+09  ...  1.997903e+09  2.014797e+09   \n",
       "\n",
       "             2014          2015          2016          2017          2018  \\\n",
       "61   2.031204e+09  2.046848e+09  2.062250e+09  2.077989e+09  2.091698e+09   \n",
       "64   3.876219e+08  3.902580e+08  3.928362e+08  3.952575e+08  3.974061e+08   \n",
       "128  5.546329e+08  5.606499e+08  5.668014e+08  5.730449e+08  5.792552e+08   \n",
       "161  3.576298e+08  3.639756e+08  3.702940e+08  3.765885e+08  3.829552e+08   \n",
       "215  9.688670e+08  9.953651e+08  1.022436e+09  1.050067e+09  1.078223e+09   \n",
       "288  5.546329e+08  5.606499e+08  5.668014e+08  5.730449e+08  5.792552e+08   \n",
       "304  9.688670e+08  9.953651e+08  1.022436e+09  1.050067e+09  1.078223e+09   \n",
       "325  3.576298e+08  3.639756e+08  3.702940e+08  3.765885e+08  3.829552e+08   \n",
       "370  3.876219e+08  3.902580e+08  3.928362e+08  3.952575e+08  3.974061e+08   \n",
       "371  2.031204e+09  2.046848e+09  2.062250e+09  2.077989e+09  2.091698e+09   \n",
       "\n",
       "             2019          2020          2021  \n",
       "61   2.103723e+09  2.114009e+09  2.122086e+09  \n",
       "64   3.993861e+08  4.008960e+08  4.018289e+08  \n",
       "128  5.852573e+08  5.909282e+08  5.962176e+08  \n",
       "161  3.894571e+08  3.961478e+08  4.030516e+08  \n",
       "215  1.106860e+09  1.135948e+09  1.165465e+09  \n",
       "288  5.852573e+08  5.909282e+08  5.962176e+08  \n",
       "304  1.106860e+09  1.135948e+09  1.165465e+09  \n",
       "325  3.894571e+08  3.961478e+08  4.030516e+08  \n",
       "370  3.993861e+08  4.008960e+08  4.018289e+08  \n",
       "371  2.103723e+09  2.114009e+09  2.122086e+09  \n",
       "\n",
       "[10 rows x 64 columns]"
      ]
     },
     "execution_count": 12,
     "metadata": {},
     "output_type": "execute_result"
    }
   ],
   "source": [
    "countries_population[countries_population['Country Name'].str.contains(r'\\(excluding', na=False)]"
   ]
  },
  {
   "cell_type": "markdown",
   "metadata": {},
   "source": [
    "### **Dataset 2**"
   ]
  },
  {
   "cell_type": "markdown",
   "metadata": {},
   "source": [
    "### Quality Issue 1 and 2: Validity and Completness"
   ]
  },
  {
   "cell_type": "code",
   "execution_count": 13,
   "metadata": {},
   "outputs": [
    {
     "data": {
      "text/html": [
       "<div>\n",
       "<style scoped>\n",
       "    .dataframe tbody tr th:only-of-type {\n",
       "        vertical-align: middle;\n",
       "    }\n",
       "\n",
       "    .dataframe tbody tr th {\n",
       "        vertical-align: top;\n",
       "    }\n",
       "\n",
       "    .dataframe thead th {\n",
       "        text-align: right;\n",
       "    }\n",
       "</style>\n",
       "<table border=\"1\" class=\"dataframe\">\n",
       "  <thead>\n",
       "    <tr style=\"text-align: right;\">\n",
       "      <th></th>\n",
       "      <th>Rank</th>\n",
       "      <th>City</th>\n",
       "      <th>2021</th>\n",
       "      <th>JAN(2021)</th>\n",
       "      <th>FEB(2021)</th>\n",
       "      <th>MAR(2021)</th>\n",
       "      <th>APR(2021)</th>\n",
       "      <th>MAY(2021)</th>\n",
       "      <th>JUN(2021)</th>\n",
       "      <th>JUL(2021)</th>\n",
       "      <th>AUG(2021)</th>\n",
       "      <th>SEP(2021)</th>\n",
       "      <th>OCT(2021)</th>\n",
       "      <th>NOV(2021)</th>\n",
       "      <th>DEC(2021)</th>\n",
       "      <th>2020</th>\n",
       "      <th>2019</th>\n",
       "      <th>2018</th>\n",
       "      <th>2017</th>\n",
       "    </tr>\n",
       "  </thead>\n",
       "  <tbody>\n",
       "    <tr>\n",
       "      <th>1960</th>\n",
       "      <td>1961</td>\n",
       "      <td>Duarte, USA</td>\n",
       "      <td>14.0</td>\n",
       "      <td>9</td>\n",
       "      <td>12.2</td>\n",
       "      <td>6.3</td>\n",
       "      <td>11.1</td>\n",
       "      <td>15.3</td>\n",
       "      <td>12.8</td>\n",
       "      <td>17.5</td>\n",
       "      <td>16.4</td>\n",
       "      <td>17.8</td>\n",
       "      <td>8.9</td>\n",
       "      <td>28.7</td>\n",
       "      <td>15.8</td>\n",
       "      <td>18</td>\n",
       "      <td>13.2</td>\n",
       "      <td>-</td>\n",
       "      <td>-</td>\n",
       "    </tr>\n",
       "    <tr>\n",
       "      <th>5967</th>\n",
       "      <td>5968</td>\n",
       "      <td>Manchester, USA</td>\n",
       "      <td>6.1</td>\n",
       "      <td>9.2</td>\n",
       "      <td>4.7</td>\n",
       "      <td>7.2</td>\n",
       "      <td>5.3</td>\n",
       "      <td>3.6</td>\n",
       "      <td>6.7</td>\n",
       "      <td>5.6</td>\n",
       "      <td>8</td>\n",
       "      <td>4.4</td>\n",
       "      <td>5.7</td>\n",
       "      <td>7.7</td>\n",
       "      <td>4.7</td>\n",
       "      <td>-</td>\n",
       "      <td>-</td>\n",
       "      <td>-</td>\n",
       "      <td>-</td>\n",
       "    </tr>\n",
       "    <tr>\n",
       "      <th>564</th>\n",
       "      <td>565</td>\n",
       "      <td>Chiang Saen, Thailand</td>\n",
       "      <td>27.5</td>\n",
       "      <td>41.5</td>\n",
       "      <td>41.3</td>\n",
       "      <td>108</td>\n",
       "      <td>52.1</td>\n",
       "      <td>19.4</td>\n",
       "      <td>10.7</td>\n",
       "      <td>5.8</td>\n",
       "      <td>6.1</td>\n",
       "      <td>6.3</td>\n",
       "      <td>9.3</td>\n",
       "      <td>11.3</td>\n",
       "      <td>23.4</td>\n",
       "      <td>43.7</td>\n",
       "      <td>24.4</td>\n",
       "      <td>-</td>\n",
       "      <td>-</td>\n",
       "    </tr>\n",
       "    <tr>\n",
       "      <th>1053</th>\n",
       "      <td>1054</td>\n",
       "      <td>Kernville, USA</td>\n",
       "      <td>20.4</td>\n",
       "      <td>6</td>\n",
       "      <td>10.2</td>\n",
       "      <td>5.2</td>\n",
       "      <td>5.7</td>\n",
       "      <td>4.2</td>\n",
       "      <td>6.1</td>\n",
       "      <td>8</td>\n",
       "      <td>39.5</td>\n",
       "      <td>103.1</td>\n",
       "      <td>33.8</td>\n",
       "      <td>7.7</td>\n",
       "      <td>5.5</td>\n",
       "      <td>20.2</td>\n",
       "      <td>9.3</td>\n",
       "      <td>-</td>\n",
       "      <td>-</td>\n",
       "    </tr>\n",
       "    <tr>\n",
       "      <th>1215</th>\n",
       "      <td>1216</td>\n",
       "      <td>Curico, Chile</td>\n",
       "      <td>19.0</td>\n",
       "      <td>10.9</td>\n",
       "      <td>6.7</td>\n",
       "      <td>11.1</td>\n",
       "      <td>20.9</td>\n",
       "      <td>32.2</td>\n",
       "      <td>37.6</td>\n",
       "      <td>41.2</td>\n",
       "      <td>29.2</td>\n",
       "      <td>18.8</td>\n",
       "      <td>11</td>\n",
       "      <td>7.5</td>\n",
       "      <td>11.2</td>\n",
       "      <td>19</td>\n",
       "      <td>25.8</td>\n",
       "      <td>16.8</td>\n",
       "      <td>23</td>\n",
       "    </tr>\n",
       "  </tbody>\n",
       "</table>\n",
       "</div>"
      ],
      "text/plain": [
       "      Rank                   City  2021 JAN(2021) FEB(2021) MAR(2021)  \\\n",
       "1960  1961            Duarte, USA  14.0         9      12.2       6.3   \n",
       "5967  5968        Manchester, USA   6.1       9.2       4.7       7.2   \n",
       "564    565  Chiang Saen, Thailand  27.5      41.5      41.3       108   \n",
       "1053  1054         Kernville, USA  20.4         6      10.2       5.2   \n",
       "1215  1216          Curico, Chile  19.0      10.9       6.7      11.1   \n",
       "\n",
       "     APR(2021) MAY(2021) JUN(2021) JUL(2021) AUG(2021) SEP(2021) OCT(2021)  \\\n",
       "1960      11.1      15.3      12.8      17.5      16.4      17.8       8.9   \n",
       "5967       5.3       3.6       6.7       5.6         8       4.4       5.7   \n",
       "564       52.1      19.4      10.7       5.8       6.1       6.3       9.3   \n",
       "1053       5.7       4.2       6.1         8      39.5     103.1      33.8   \n",
       "1215      20.9      32.2      37.6      41.2      29.2      18.8        11   \n",
       "\n",
       "     NOV(2021) DEC(2021)  2020  2019  2018 2017  \n",
       "1960      28.7      15.8    18  13.2     -    -  \n",
       "5967       7.7       4.7     -     -     -    -  \n",
       "564       11.3      23.4  43.7  24.4     -    -  \n",
       "1053       7.7       5.5  20.2   9.3     -    -  \n",
       "1215       7.5      11.2    19  25.8  16.8   23  "
      ]
     },
     "execution_count": 13,
     "metadata": {},
     "output_type": "execute_result"
    }
   ],
   "source": [
    "cities_aqi.sample(n=5, random_state=16)"
   ]
  },
  {
   "cell_type": "markdown",
   "metadata": {},
   "source": [
    "There are null values indicated by dashes. Misrepresentation of missing values is a Validity issue.  \n",
    "Additionally, missing values is a compleness issue"
   ]
  },
  {
   "cell_type": "markdown",
   "metadata": {},
   "source": [
    "### Tidiness Issue 1: Multiple variables stored in the same column. "
   ]
  },
  {
   "cell_type": "code",
   "execution_count": 14,
   "metadata": {},
   "outputs": [
    {
     "data": {
      "text/html": [
       "<div>\n",
       "<style scoped>\n",
       "    .dataframe tbody tr th:only-of-type {\n",
       "        vertical-align: middle;\n",
       "    }\n",
       "\n",
       "    .dataframe tbody tr th {\n",
       "        vertical-align: top;\n",
       "    }\n",
       "\n",
       "    .dataframe thead th {\n",
       "        text-align: right;\n",
       "    }\n",
       "</style>\n",
       "<table border=\"1\" class=\"dataframe\">\n",
       "  <thead>\n",
       "    <tr style=\"text-align: right;\">\n",
       "      <th></th>\n",
       "      <th>Rank</th>\n",
       "      <th>City</th>\n",
       "      <th>2021</th>\n",
       "      <th>JAN(2021)</th>\n",
       "      <th>FEB(2021)</th>\n",
       "      <th>MAR(2021)</th>\n",
       "      <th>APR(2021)</th>\n",
       "      <th>MAY(2021)</th>\n",
       "      <th>JUN(2021)</th>\n",
       "      <th>JUL(2021)</th>\n",
       "      <th>AUG(2021)</th>\n",
       "      <th>SEP(2021)</th>\n",
       "      <th>OCT(2021)</th>\n",
       "      <th>NOV(2021)</th>\n",
       "      <th>DEC(2021)</th>\n",
       "      <th>2020</th>\n",
       "      <th>2019</th>\n",
       "      <th>2018</th>\n",
       "      <th>2017</th>\n",
       "    </tr>\n",
       "  </thead>\n",
       "  <tbody>\n",
       "    <tr>\n",
       "      <th>1960</th>\n",
       "      <td>1961</td>\n",
       "      <td>Duarte, USA</td>\n",
       "      <td>14.0</td>\n",
       "      <td>9</td>\n",
       "      <td>12.2</td>\n",
       "      <td>6.3</td>\n",
       "      <td>11.1</td>\n",
       "      <td>15.3</td>\n",
       "      <td>12.8</td>\n",
       "      <td>17.5</td>\n",
       "      <td>16.4</td>\n",
       "      <td>17.8</td>\n",
       "      <td>8.9</td>\n",
       "      <td>28.7</td>\n",
       "      <td>15.8</td>\n",
       "      <td>18</td>\n",
       "      <td>13.2</td>\n",
       "      <td>-</td>\n",
       "      <td>-</td>\n",
       "    </tr>\n",
       "    <tr>\n",
       "      <th>5967</th>\n",
       "      <td>5968</td>\n",
       "      <td>Manchester, USA</td>\n",
       "      <td>6.1</td>\n",
       "      <td>9.2</td>\n",
       "      <td>4.7</td>\n",
       "      <td>7.2</td>\n",
       "      <td>5.3</td>\n",
       "      <td>3.6</td>\n",
       "      <td>6.7</td>\n",
       "      <td>5.6</td>\n",
       "      <td>8</td>\n",
       "      <td>4.4</td>\n",
       "      <td>5.7</td>\n",
       "      <td>7.7</td>\n",
       "      <td>4.7</td>\n",
       "      <td>-</td>\n",
       "      <td>-</td>\n",
       "      <td>-</td>\n",
       "      <td>-</td>\n",
       "    </tr>\n",
       "    <tr>\n",
       "      <th>564</th>\n",
       "      <td>565</td>\n",
       "      <td>Chiang Saen, Thailand</td>\n",
       "      <td>27.5</td>\n",
       "      <td>41.5</td>\n",
       "      <td>41.3</td>\n",
       "      <td>108</td>\n",
       "      <td>52.1</td>\n",
       "      <td>19.4</td>\n",
       "      <td>10.7</td>\n",
       "      <td>5.8</td>\n",
       "      <td>6.1</td>\n",
       "      <td>6.3</td>\n",
       "      <td>9.3</td>\n",
       "      <td>11.3</td>\n",
       "      <td>23.4</td>\n",
       "      <td>43.7</td>\n",
       "      <td>24.4</td>\n",
       "      <td>-</td>\n",
       "      <td>-</td>\n",
       "    </tr>\n",
       "    <tr>\n",
       "      <th>1053</th>\n",
       "      <td>1054</td>\n",
       "      <td>Kernville, USA</td>\n",
       "      <td>20.4</td>\n",
       "      <td>6</td>\n",
       "      <td>10.2</td>\n",
       "      <td>5.2</td>\n",
       "      <td>5.7</td>\n",
       "      <td>4.2</td>\n",
       "      <td>6.1</td>\n",
       "      <td>8</td>\n",
       "      <td>39.5</td>\n",
       "      <td>103.1</td>\n",
       "      <td>33.8</td>\n",
       "      <td>7.7</td>\n",
       "      <td>5.5</td>\n",
       "      <td>20.2</td>\n",
       "      <td>9.3</td>\n",
       "      <td>-</td>\n",
       "      <td>-</td>\n",
       "    </tr>\n",
       "    <tr>\n",
       "      <th>1215</th>\n",
       "      <td>1216</td>\n",
       "      <td>Curico, Chile</td>\n",
       "      <td>19.0</td>\n",
       "      <td>10.9</td>\n",
       "      <td>6.7</td>\n",
       "      <td>11.1</td>\n",
       "      <td>20.9</td>\n",
       "      <td>32.2</td>\n",
       "      <td>37.6</td>\n",
       "      <td>41.2</td>\n",
       "      <td>29.2</td>\n",
       "      <td>18.8</td>\n",
       "      <td>11</td>\n",
       "      <td>7.5</td>\n",
       "      <td>11.2</td>\n",
       "      <td>19</td>\n",
       "      <td>25.8</td>\n",
       "      <td>16.8</td>\n",
       "      <td>23</td>\n",
       "    </tr>\n",
       "  </tbody>\n",
       "</table>\n",
       "</div>"
      ],
      "text/plain": [
       "      Rank                   City  2021 JAN(2021) FEB(2021) MAR(2021)  \\\n",
       "1960  1961            Duarte, USA  14.0         9      12.2       6.3   \n",
       "5967  5968        Manchester, USA   6.1       9.2       4.7       7.2   \n",
       "564    565  Chiang Saen, Thailand  27.5      41.5      41.3       108   \n",
       "1053  1054         Kernville, USA  20.4         6      10.2       5.2   \n",
       "1215  1216          Curico, Chile  19.0      10.9       6.7      11.1   \n",
       "\n",
       "     APR(2021) MAY(2021) JUN(2021) JUL(2021) AUG(2021) SEP(2021) OCT(2021)  \\\n",
       "1960      11.1      15.3      12.8      17.5      16.4      17.8       8.9   \n",
       "5967       5.3       3.6       6.7       5.6         8       4.4       5.7   \n",
       "564       52.1      19.4      10.7       5.8       6.1       6.3       9.3   \n",
       "1053       5.7       4.2       6.1         8      39.5     103.1      33.8   \n",
       "1215      20.9      32.2      37.6      41.2      29.2      18.8        11   \n",
       "\n",
       "     NOV(2021) DEC(2021)  2020  2019  2018 2017  \n",
       "1960      28.7      15.8    18  13.2     -    -  \n",
       "5967       7.7       4.7     -     -     -    -  \n",
       "564       11.3      23.4  43.7  24.4     -    -  \n",
       "1053       7.7       5.5  20.2   9.3     -    -  \n",
       "1215       7.5      11.2    19  25.8  16.8   23  "
      ]
     },
     "execution_count": 14,
     "metadata": {},
     "output_type": "execute_result"
    }
   ],
   "source": [
    "cities_aqi.sample(n=5, random_state=16)"
   ]
  },
  {
   "cell_type": "code",
   "execution_count": 15,
   "metadata": {},
   "outputs": [
    {
     "data": {
      "text/plain": [
       "0          Bhiwadi\n",
       "1        Ghaziabad\n",
       "2            Hotan\n",
       "3            Delhi\n",
       "4          Jaunpur\n",
       "           ...    \n",
       "6470    Mornington\n",
       "6471     Emu River\n",
       "6472       Judbury\n",
       "6473     St Helens\n",
       "6474           Chu\n",
       "Name: 0, Length: 6475, dtype: object"
      ]
     },
     "execution_count": 15,
     "metadata": {},
     "output_type": "execute_result"
    }
   ],
   "source": [
    "# city name\n",
    "cities_aqi['City'].str.split(\",\", expand=True)[0]"
   ]
  },
  {
   "cell_type": "code",
   "execution_count": 16,
   "metadata": {},
   "outputs": [
    {
     "data": {
      "text/plain": [
       "0             India\n",
       "1             India\n",
       "2             China\n",
       "3             India\n",
       "4             India\n",
       "           ...     \n",
       "6470      Australia\n",
       "6471      Australia\n",
       "6472      Australia\n",
       "6473      Australia\n",
       "6474     Kazakhstan\n",
       "Name: 1, Length: 6475, dtype: object"
      ]
     },
     "execution_count": 16,
     "metadata": {},
     "output_type": "execute_result"
    }
   ],
   "source": [
    "# country name\n",
    "cities_aqi['City'].str.split(\",\", expand=True)[1]"
   ]
  },
  {
   "cell_type": "markdown",
   "metadata": {},
   "source": [
    "The City column has the city name and country, both separated by a comma. This is a case when multiple variableas are stored in the same column.  \n",
    "A new column to store the country will need to be created."
   ]
  },
  {
   "cell_type": "markdown",
   "metadata": {},
   "source": [
    "### Tidiness Issue 2: Column header are values, not names."
   ]
  },
  {
   "cell_type": "code",
   "execution_count": 17,
   "metadata": {},
   "outputs": [
    {
     "data": {
      "text/html": [
       "<div>\n",
       "<style scoped>\n",
       "    .dataframe tbody tr th:only-of-type {\n",
       "        vertical-align: middle;\n",
       "    }\n",
       "\n",
       "    .dataframe tbody tr th {\n",
       "        vertical-align: top;\n",
       "    }\n",
       "\n",
       "    .dataframe thead th {\n",
       "        text-align: right;\n",
       "    }\n",
       "</style>\n",
       "<table border=\"1\" class=\"dataframe\">\n",
       "  <thead>\n",
       "    <tr style=\"text-align: right;\">\n",
       "      <th></th>\n",
       "      <th>Rank</th>\n",
       "      <th>City</th>\n",
       "      <th>2021</th>\n",
       "      <th>JAN(2021)</th>\n",
       "      <th>FEB(2021)</th>\n",
       "      <th>MAR(2021)</th>\n",
       "      <th>APR(2021)</th>\n",
       "      <th>MAY(2021)</th>\n",
       "      <th>JUN(2021)</th>\n",
       "      <th>JUL(2021)</th>\n",
       "      <th>AUG(2021)</th>\n",
       "      <th>SEP(2021)</th>\n",
       "      <th>OCT(2021)</th>\n",
       "      <th>NOV(2021)</th>\n",
       "      <th>DEC(2021)</th>\n",
       "      <th>2020</th>\n",
       "      <th>2019</th>\n",
       "      <th>2018</th>\n",
       "      <th>2017</th>\n",
       "    </tr>\n",
       "  </thead>\n",
       "  <tbody>\n",
       "    <tr>\n",
       "      <th>1960</th>\n",
       "      <td>1961</td>\n",
       "      <td>Duarte, USA</td>\n",
       "      <td>14.0</td>\n",
       "      <td>9</td>\n",
       "      <td>12.2</td>\n",
       "      <td>6.3</td>\n",
       "      <td>11.1</td>\n",
       "      <td>15.3</td>\n",
       "      <td>12.8</td>\n",
       "      <td>17.5</td>\n",
       "      <td>16.4</td>\n",
       "      <td>17.8</td>\n",
       "      <td>8.9</td>\n",
       "      <td>28.7</td>\n",
       "      <td>15.8</td>\n",
       "      <td>18</td>\n",
       "      <td>13.2</td>\n",
       "      <td>-</td>\n",
       "      <td>-</td>\n",
       "    </tr>\n",
       "    <tr>\n",
       "      <th>5967</th>\n",
       "      <td>5968</td>\n",
       "      <td>Manchester, USA</td>\n",
       "      <td>6.1</td>\n",
       "      <td>9.2</td>\n",
       "      <td>4.7</td>\n",
       "      <td>7.2</td>\n",
       "      <td>5.3</td>\n",
       "      <td>3.6</td>\n",
       "      <td>6.7</td>\n",
       "      <td>5.6</td>\n",
       "      <td>8</td>\n",
       "      <td>4.4</td>\n",
       "      <td>5.7</td>\n",
       "      <td>7.7</td>\n",
       "      <td>4.7</td>\n",
       "      <td>-</td>\n",
       "      <td>-</td>\n",
       "      <td>-</td>\n",
       "      <td>-</td>\n",
       "    </tr>\n",
       "    <tr>\n",
       "      <th>564</th>\n",
       "      <td>565</td>\n",
       "      <td>Chiang Saen, Thailand</td>\n",
       "      <td>27.5</td>\n",
       "      <td>41.5</td>\n",
       "      <td>41.3</td>\n",
       "      <td>108</td>\n",
       "      <td>52.1</td>\n",
       "      <td>19.4</td>\n",
       "      <td>10.7</td>\n",
       "      <td>5.8</td>\n",
       "      <td>6.1</td>\n",
       "      <td>6.3</td>\n",
       "      <td>9.3</td>\n",
       "      <td>11.3</td>\n",
       "      <td>23.4</td>\n",
       "      <td>43.7</td>\n",
       "      <td>24.4</td>\n",
       "      <td>-</td>\n",
       "      <td>-</td>\n",
       "    </tr>\n",
       "    <tr>\n",
       "      <th>1053</th>\n",
       "      <td>1054</td>\n",
       "      <td>Kernville, USA</td>\n",
       "      <td>20.4</td>\n",
       "      <td>6</td>\n",
       "      <td>10.2</td>\n",
       "      <td>5.2</td>\n",
       "      <td>5.7</td>\n",
       "      <td>4.2</td>\n",
       "      <td>6.1</td>\n",
       "      <td>8</td>\n",
       "      <td>39.5</td>\n",
       "      <td>103.1</td>\n",
       "      <td>33.8</td>\n",
       "      <td>7.7</td>\n",
       "      <td>5.5</td>\n",
       "      <td>20.2</td>\n",
       "      <td>9.3</td>\n",
       "      <td>-</td>\n",
       "      <td>-</td>\n",
       "    </tr>\n",
       "    <tr>\n",
       "      <th>1215</th>\n",
       "      <td>1216</td>\n",
       "      <td>Curico, Chile</td>\n",
       "      <td>19.0</td>\n",
       "      <td>10.9</td>\n",
       "      <td>6.7</td>\n",
       "      <td>11.1</td>\n",
       "      <td>20.9</td>\n",
       "      <td>32.2</td>\n",
       "      <td>37.6</td>\n",
       "      <td>41.2</td>\n",
       "      <td>29.2</td>\n",
       "      <td>18.8</td>\n",
       "      <td>11</td>\n",
       "      <td>7.5</td>\n",
       "      <td>11.2</td>\n",
       "      <td>19</td>\n",
       "      <td>25.8</td>\n",
       "      <td>16.8</td>\n",
       "      <td>23</td>\n",
       "    </tr>\n",
       "  </tbody>\n",
       "</table>\n",
       "</div>"
      ],
      "text/plain": [
       "      Rank                   City  2021 JAN(2021) FEB(2021) MAR(2021)  \\\n",
       "1960  1961            Duarte, USA  14.0         9      12.2       6.3   \n",
       "5967  5968        Manchester, USA   6.1       9.2       4.7       7.2   \n",
       "564    565  Chiang Saen, Thailand  27.5      41.5      41.3       108   \n",
       "1053  1054         Kernville, USA  20.4         6      10.2       5.2   \n",
       "1215  1216          Curico, Chile  19.0      10.9       6.7      11.1   \n",
       "\n",
       "     APR(2021) MAY(2021) JUN(2021) JUL(2021) AUG(2021) SEP(2021) OCT(2021)  \\\n",
       "1960      11.1      15.3      12.8      17.5      16.4      17.8       8.9   \n",
       "5967       5.3       3.6       6.7       5.6         8       4.4       5.7   \n",
       "564       52.1      19.4      10.7       5.8       6.1       6.3       9.3   \n",
       "1053       5.7       4.2       6.1         8      39.5     103.1      33.8   \n",
       "1215      20.9      32.2      37.6      41.2      29.2      18.8        11   \n",
       "\n",
       "     NOV(2021) DEC(2021)  2020  2019  2018 2017  \n",
       "1960      28.7      15.8    18  13.2     -    -  \n",
       "5967       7.7       4.7     -     -     -    -  \n",
       "564       11.3      23.4  43.7  24.4     -    -  \n",
       "1053       7.7       5.5  20.2   9.3     -    -  \n",
       "1215       7.5      11.2    19  25.8  16.8   23  "
      ]
     },
     "execution_count": 17,
     "metadata": {},
     "output_type": "execute_result"
    }
   ],
   "source": [
    "cities_aqi.sample(n=5, random_state=16)"
   ]
  },
  {
   "cell_type": "markdown",
   "metadata": {},
   "source": [
    "The column names with years should be rows for each city."
   ]
  },
  {
   "cell_type": "markdown",
   "metadata": {
    "id": "D6gmLnBttpCh"
   },
   "source": [
    "## 3. Clean data\n",
    "Clean the data to solve the 4 issues corresponding to data quality and tidiness found in the assessing step. **Make sure you include justifications for your cleaning decisions.**\n",
    "\n",
    "After the cleaning for each issue, please use **either** the visually or programatical method to validate the cleaning was succesful.\n",
    "\n",
    "At this stage, you are also expected to remove variables that are unnecessary for your analysis and combine your datasets. Depending on your datasets, you may choose to perform variable combination and elimination before or after the cleaning stage. Your dataset must have **at least** 4 variables after combining the data."
   ]
  },
  {
   "cell_type": "code",
   "execution_count": 18,
   "metadata": {},
   "outputs": [],
   "source": [
    "# FILL IN - Make copies of the datasets to ensure the raw dataframes are not impacted\n",
    "countries_population_df = countries_population.copy(deep=True)"
   ]
  },
  {
   "cell_type": "code",
   "execution_count": 19,
   "metadata": {},
   "outputs": [],
   "source": [
    "cities_aqi_df = cities_aqi.copy(deep=True)"
   ]
  },
  {
   "cell_type": "markdown",
   "metadata": {},
   "source": [
    "### **Dataset 1:** World Countries"
   ]
  },
  {
   "cell_type": "markdown",
   "metadata": {
    "id": "FmFhN52Yyn3l"
   },
   "source": [
    "### **Quality Issue 1:** Completeness"
   ]
  },
  {
   "cell_type": "code",
   "execution_count": 20,
   "metadata": {
    "id": "9UejDWrNMW4a"
   },
   "outputs": [
    {
     "data": {
      "text/html": [
       "<div>\n",
       "<style scoped>\n",
       "    .dataframe tbody tr th:only-of-type {\n",
       "        vertical-align: middle;\n",
       "    }\n",
       "\n",
       "    .dataframe tbody tr th {\n",
       "        vertical-align: top;\n",
       "    }\n",
       "\n",
       "    .dataframe thead th {\n",
       "        text-align: right;\n",
       "    }\n",
       "</style>\n",
       "<table border=\"1\" class=\"dataframe\">\n",
       "  <thead>\n",
       "    <tr style=\"text-align: right;\">\n",
       "      <th></th>\n",
       "      <th>Country Name</th>\n",
       "      <th>Country Code</th>\n",
       "      <th>1960</th>\n",
       "      <th>1961</th>\n",
       "      <th>1962</th>\n",
       "      <th>1963</th>\n",
       "      <th>1964</th>\n",
       "      <th>1965</th>\n",
       "      <th>1966</th>\n",
       "      <th>1967</th>\n",
       "      <th>...</th>\n",
       "      <th>2012</th>\n",
       "      <th>2013</th>\n",
       "      <th>2014</th>\n",
       "      <th>2015</th>\n",
       "      <th>2016</th>\n",
       "      <th>2017</th>\n",
       "      <th>2018</th>\n",
       "      <th>2019</th>\n",
       "      <th>2020</th>\n",
       "      <th>2021</th>\n",
       "    </tr>\n",
       "  </thead>\n",
       "  <tbody>\n",
       "    <tr>\n",
       "      <th>110</th>\n",
       "      <td>Not classified</td>\n",
       "      <td>INX</td>\n",
       "      <td>NaN</td>\n",
       "      <td>NaN</td>\n",
       "      <td>NaN</td>\n",
       "      <td>NaN</td>\n",
       "      <td>NaN</td>\n",
       "      <td>NaN</td>\n",
       "      <td>NaN</td>\n",
       "      <td>NaN</td>\n",
       "      <td>...</td>\n",
       "      <td>NaN</td>\n",
       "      <td>NaN</td>\n",
       "      <td>NaN</td>\n",
       "      <td>NaN</td>\n",
       "      <td>NaN</td>\n",
       "      <td>NaN</td>\n",
       "      <td>NaN</td>\n",
       "      <td>NaN</td>\n",
       "      <td>NaN</td>\n",
       "      <td>NaN</td>\n",
       "    </tr>\n",
       "    <tr>\n",
       "      <th>432</th>\n",
       "      <td>Not classified</td>\n",
       "      <td>INX</td>\n",
       "      <td>NaN</td>\n",
       "      <td>NaN</td>\n",
       "      <td>NaN</td>\n",
       "      <td>NaN</td>\n",
       "      <td>NaN</td>\n",
       "      <td>NaN</td>\n",
       "      <td>NaN</td>\n",
       "      <td>NaN</td>\n",
       "      <td>...</td>\n",
       "      <td>NaN</td>\n",
       "      <td>NaN</td>\n",
       "      <td>NaN</td>\n",
       "      <td>NaN</td>\n",
       "      <td>NaN</td>\n",
       "      <td>NaN</td>\n",
       "      <td>NaN</td>\n",
       "      <td>NaN</td>\n",
       "      <td>NaN</td>\n",
       "      <td>NaN</td>\n",
       "    </tr>\n",
       "  </tbody>\n",
       "</table>\n",
       "<p>2 rows × 64 columns</p>\n",
       "</div>"
      ],
      "text/plain": [
       "       Country Name Country Code  1960  1961  1962  1963  1964  1965  1966  \\\n",
       "110  Not classified          INX   NaN   NaN   NaN   NaN   NaN   NaN   NaN   \n",
       "432  Not classified          INX   NaN   NaN   NaN   NaN   NaN   NaN   NaN   \n",
       "\n",
       "     1967  ...  2012  2013  2014  2015  2016  2017  2018  2019  2020  2021  \n",
       "110   NaN  ...   NaN   NaN   NaN   NaN   NaN   NaN   NaN   NaN   NaN   NaN  \n",
       "432   NaN  ...   NaN   NaN   NaN   NaN   NaN   NaN   NaN   NaN   NaN   NaN  \n",
       "\n",
       "[2 rows x 64 columns]"
      ]
     },
     "execution_count": 20,
     "metadata": {},
     "output_type": "execute_result"
    }
   ],
   "source": [
    "# FILL IN - Apply the cleaning strategy\n",
    "countries_population_df[countries_population_df['Country Name'] == \"Not classified\"]"
   ]
  },
  {
   "cell_type": "code",
   "execution_count": 21,
   "metadata": {},
   "outputs": [],
   "source": [
    "countries_population_df.drop(countries_population_df[countries_population_df['Country Name'] == \"Not classified\"].index, inplace=True)"
   ]
  },
  {
   "cell_type": "code",
   "execution_count": 22,
   "metadata": {
    "id": "oUBee-LPytkv"
   },
   "outputs": [
    {
     "data": {
      "text/plain": [
       "0"
      ]
     },
     "execution_count": 22,
     "metadata": {},
     "output_type": "execute_result"
    }
   ],
   "source": [
    "# FILL IN - Validate the cleaning was successful\n",
    "len(countries_population_df[countries_population_df['Country Name'] == \"Not classified\"])"
   ]
  },
  {
   "cell_type": "markdown",
   "metadata": {},
   "source": [
    "Justification: *Removing empty rows to make a clean and reliable dataset, additionally makes it more efficient and save storage*"
   ]
  },
  {
   "cell_type": "markdown",
   "metadata": {
    "id": "n_DAUbJrymBL"
   },
   "source": [
    "### **Quality Issue 2:** Uniqueness"
   ]
  },
  {
   "cell_type": "code",
   "execution_count": 23,
   "metadata": {
    "id": "5Yfb-Yu5MTuE"
   },
   "outputs": [],
   "source": [
    "#FILL IN - Apply the cleaning strategy\n",
    "countries_population_df.drop_duplicates(inplace=True)"
   ]
  },
  {
   "cell_type": "code",
   "execution_count": 24,
   "metadata": {
    "id": "ionB2sRaMUmY"
   },
   "outputs": [
    {
     "data": {
      "text/plain": [
       "0"
      ]
     },
     "execution_count": 24,
     "metadata": {},
     "output_type": "execute_result"
    }
   ],
   "source": [
    "#FILL IN - Validate the cleaning was successful\n",
    "sum(countries_population_df.duplicated())"
   ]
  },
  {
   "cell_type": "markdown",
   "metadata": {},
   "source": [
    "Justification: *Duplicate values add redundancy and could yield to misleading calculations*"
   ]
  },
  {
   "cell_type": "markdown",
   "metadata": {
    "id": "o51Bt8kwyTzk"
   },
   "source": [
    "### **Tidiness Issue 2:** Multiple types of observational units are stored in the same table"
   ]
  },
  {
   "cell_type": "code",
   "execution_count": 25,
   "metadata": {
    "id": "q6I_Sr7lxXi5"
   },
   "outputs": [],
   "source": [
    "#FILL IN - Validate the cleaning was successful\n",
    "countries_population_df.drop(countries_population_df[countries_population_df['Country Name'].str.contains(r'\\(excluding', na=False)].index, inplace=True)"
   ]
  },
  {
   "cell_type": "code",
   "execution_count": 26,
   "metadata": {},
   "outputs": [
    {
     "data": {
      "text/plain": [
       "0"
      ]
     },
     "execution_count": 26,
     "metadata": {},
     "output_type": "execute_result"
    }
   ],
   "source": [
    "sum(countries_population_df['Country Name'].str.contains(r'\\(excluding', na=False))"
   ]
  },
  {
   "cell_type": "markdown",
   "metadata": {},
   "source": [
    "Justification: *Records that are not countries were removed*"
   ]
  },
  {
   "cell_type": "markdown",
   "metadata": {
    "id": "bIUrrfSNyOPR"
   },
   "source": [
    "### **Tidiness Issue 1:** Column header are values not names"
   ]
  },
  {
   "cell_type": "code",
   "execution_count": 27,
   "metadata": {
    "id": "fib0zAm333bn"
   },
   "outputs": [
    {
     "data": {
      "text/plain": [
       "Index(['Country Name', 'Country Code', '1960', '1961', '1962', '1963', '1964',\n",
       "       '1965', '1966', '1967', '1968', '1969', '1970', '1971', '1972', '1973',\n",
       "       '1974', '1975', '1976', '1977', '1978', '1979', '1980', '1981', '1982',\n",
       "       '1983', '1984', '1985', '1986', '1987', '1988', '1989', '1990', '1991',\n",
       "       '1992', '1993', '1994', '1995', '1996', '1997', '1998', '1999', '2000',\n",
       "       '2001', '2002', '2003', '2004', '2005', '2006', '2007', '2008', '2009',\n",
       "       '2010', '2011', '2012', '2013', '2014', '2015', '2016', '2017', '2018',\n",
       "       '2019', '2020', '2021'],\n",
       "      dtype='object')"
      ]
     },
     "execution_count": 27,
     "metadata": {},
     "output_type": "execute_result"
    }
   ],
   "source": [
    "#FILL IN - Apply the cleaning strategy\n",
    "countries_population_df.columns"
   ]
  },
  {
   "cell_type": "code",
   "execution_count": 28,
   "metadata": {},
   "outputs": [],
   "source": [
    "countries_population_meltdf = pd.melt(countries_population_df,\n",
    "                                    id_vars=['Country Name', 'Country Code'],\n",
    "                                    value_vars=['1960', '1961', '1962', '1963', '1964',\n",
    "                                    '1965', '1966', '1967', '1968', '1969', '1970', '1971', '1972', '1973',\n",
    "                                    '1974', '1975', '1976', '1977', '1978', '1979', '1980', '1981', '1982',\n",
    "                                    '1983', '1984', '1985', '1986', '1987', '1988', '1989', '1990', '1991',\n",
    "                                    '1992', '1993', '1994', '1995', '1996', '1997', '1998', '1999', '2000',\n",
    "                                    '2001', '2002', '2003', '2004', '2005', '2006', '2007', '2008', '2009',\n",
    "                                    '2010', '2011', '2012', '2013', '2014', '2015', '2016', '2017', '2018',\n",
    "                                    '2019', '2020', '2021'],\n",
    "                                    var_name='Year',\n",
    "                                    value_name='population'\n",
    "                                    )"
   ]
  },
  {
   "cell_type": "code",
   "execution_count": 29,
   "metadata": {
    "id": "yhrnUGY_Nk8B"
   },
   "outputs": [
    {
     "data": {
      "text/html": [
       "<div>\n",
       "<style scoped>\n",
       "    .dataframe tbody tr th:only-of-type {\n",
       "        vertical-align: middle;\n",
       "    }\n",
       "\n",
       "    .dataframe tbody tr th {\n",
       "        vertical-align: top;\n",
       "    }\n",
       "\n",
       "    .dataframe thead th {\n",
       "        text-align: right;\n",
       "    }\n",
       "</style>\n",
       "<table border=\"1\" class=\"dataframe\">\n",
       "  <thead>\n",
       "    <tr style=\"text-align: right;\">\n",
       "      <th></th>\n",
       "      <th>Country Name</th>\n",
       "      <th>Country Code</th>\n",
       "      <th>Year</th>\n",
       "      <th>population</th>\n",
       "    </tr>\n",
       "  </thead>\n",
       "  <tbody>\n",
       "    <tr>\n",
       "      <th>0</th>\n",
       "      <td>Aruba</td>\n",
       "      <td>ABW</td>\n",
       "      <td>1960</td>\n",
       "      <td>54208.0</td>\n",
       "    </tr>\n",
       "    <tr>\n",
       "      <th>1</th>\n",
       "      <td>Africa Eastern and Southern</td>\n",
       "      <td>AFE</td>\n",
       "      <td>1960</td>\n",
       "      <td>130836765.0</td>\n",
       "    </tr>\n",
       "    <tr>\n",
       "      <th>2</th>\n",
       "      <td>Afghanistan</td>\n",
       "      <td>AFG</td>\n",
       "      <td>1960</td>\n",
       "      <td>8996967.0</td>\n",
       "    </tr>\n",
       "    <tr>\n",
       "      <th>3</th>\n",
       "      <td>Africa Western and Central</td>\n",
       "      <td>AFW</td>\n",
       "      <td>1960</td>\n",
       "      <td>96396419.0</td>\n",
       "    </tr>\n",
       "    <tr>\n",
       "      <th>4</th>\n",
       "      <td>Angola</td>\n",
       "      <td>AGO</td>\n",
       "      <td>1960</td>\n",
       "      <td>5454938.0</td>\n",
       "    </tr>\n",
       "    <tr>\n",
       "      <th>...</th>\n",
       "      <td>...</td>\n",
       "      <td>...</td>\n",
       "      <td>...</td>\n",
       "      <td>...</td>\n",
       "    </tr>\n",
       "    <tr>\n",
       "      <th>16115</th>\n",
       "      <td>Kosovo</td>\n",
       "      <td>XKX</td>\n",
       "      <td>2021</td>\n",
       "      <td>1806279.0</td>\n",
       "    </tr>\n",
       "    <tr>\n",
       "      <th>16116</th>\n",
       "      <td>Yemen, Rep.</td>\n",
       "      <td>YEM</td>\n",
       "      <td>2021</td>\n",
       "      <td>30490639.0</td>\n",
       "    </tr>\n",
       "    <tr>\n",
       "      <th>16117</th>\n",
       "      <td>South Africa</td>\n",
       "      <td>ZAF</td>\n",
       "      <td>2021</td>\n",
       "      <td>60041996.0</td>\n",
       "    </tr>\n",
       "    <tr>\n",
       "      <th>16118</th>\n",
       "      <td>Zambia</td>\n",
       "      <td>ZMB</td>\n",
       "      <td>2021</td>\n",
       "      <td>18920657.0</td>\n",
       "    </tr>\n",
       "    <tr>\n",
       "      <th>16119</th>\n",
       "      <td>Zimbabwe</td>\n",
       "      <td>ZWE</td>\n",
       "      <td>2021</td>\n",
       "      <td>15092171.0</td>\n",
       "    </tr>\n",
       "  </tbody>\n",
       "</table>\n",
       "<p>16120 rows × 4 columns</p>\n",
       "</div>"
      ],
      "text/plain": [
       "                      Country Name Country Code  Year   population\n",
       "0                            Aruba          ABW  1960      54208.0\n",
       "1      Africa Eastern and Southern          AFE  1960  130836765.0\n",
       "2                      Afghanistan          AFG  1960    8996967.0\n",
       "3       Africa Western and Central          AFW  1960   96396419.0\n",
       "4                           Angola          AGO  1960    5454938.0\n",
       "...                            ...          ...   ...          ...\n",
       "16115                       Kosovo          XKX  2021    1806279.0\n",
       "16116                  Yemen, Rep.          YEM  2021   30490639.0\n",
       "16117                 South Africa          ZAF  2021   60041996.0\n",
       "16118                       Zambia          ZMB  2021   18920657.0\n",
       "16119                     Zimbabwe          ZWE  2021   15092171.0\n",
       "\n",
       "[16120 rows x 4 columns]"
      ]
     },
     "execution_count": 29,
     "metadata": {},
     "output_type": "execute_result"
    }
   ],
   "source": [
    "#FILL IN - Validate the cleaning was successful\n",
    "countries_population_meltdf"
   ]
  },
  {
   "cell_type": "markdown",
   "metadata": {},
   "source": [
    "Justification: *The resulting dataframe has values in rows instead of column*"
   ]
  },
  {
   "cell_type": "markdown",
   "metadata": {},
   "source": [
    "### **Dataset 2** Cities Air Quality"
   ]
  },
  {
   "cell_type": "markdown",
   "metadata": {},
   "source": [
    "### **Quality Issue 1 & 2:** Validity and compleness"
   ]
  },
  {
   "cell_type": "code",
   "execution_count": 30,
   "metadata": {},
   "outputs": [
    {
     "data": {
      "text/plain": [
       "Index(['Rank', 'City', '2021', 'JAN(2021)', 'FEB(2021)', 'MAR(2021)',\n",
       "       'APR(2021)', 'MAY(2021)', 'JUN(2021)', 'JUL(2021)', 'AUG(2021)',\n",
       "       'SEP(2021)', 'OCT(2021)', 'NOV(2021)', 'DEC(2021)', '2020', '2019',\n",
       "       '2018', '2017'],\n",
       "      dtype='object')"
      ]
     },
     "execution_count": 30,
     "metadata": {},
     "output_type": "execute_result"
    }
   ],
   "source": [
    "# get the columns to replace the dashes\n",
    "cities_aqi_df.columns"
   ]
  },
  {
   "cell_type": "code",
   "execution_count": 31,
   "metadata": {},
   "outputs": [],
   "source": [
    "columns_to_replace_dash = ['2021', 'JAN(2021)', 'FEB(2021)', 'MAR(2021)',\n",
    "                            'APR(2021)', 'MAY(2021)', 'JUN(2021)', 'JUL(2021)', 'AUG(2021)',\n",
    "                            'SEP(2021)', 'OCT(2021)', 'NOV(2021)', 'DEC(2021)', '2020', '2019',\n",
    "                            '2018', '2017']"
   ]
  },
  {
   "cell_type": "code",
   "execution_count": 32,
   "metadata": {},
   "outputs": [],
   "source": [
    "# replacing dash as nan\n",
    "cities_aqi_df[columns_to_replace_dash] = cities_aqi_df[columns_to_replace_dash].replace('-', np.nan)"
   ]
  },
  {
   "cell_type": "code",
   "execution_count": 33,
   "metadata": {},
   "outputs": [
    {
     "data": {
      "text/plain": [
       "np.False_"
      ]
     },
     "execution_count": 33,
     "metadata": {},
     "output_type": "execute_result"
    }
   ],
   "source": [
    "cities_aqi_df[columns_to_replace_dash].isin(['-']).any().any()"
   ]
  },
  {
   "cell_type": "markdown",
   "metadata": {},
   "source": [
    "There are no more values with dashes."
   ]
  },
  {
   "cell_type": "markdown",
   "metadata": {},
   "source": [
    "### **Quality Issue 3:** Validate the yearly 2021 data with monthly 2021"
   ]
  },
  {
   "cell_type": "code",
   "execution_count": 34,
   "metadata": {},
   "outputs": [],
   "source": [
    "# cast as float\n",
    "cities_aqi_df[columns_to_replace_dash] = cities_aqi_df[columns_to_replace_dash].astype(float)"
   ]
  },
  {
   "cell_type": "code",
   "execution_count": 35,
   "metadata": {},
   "outputs": [],
   "source": [
    "monthly_2021_cols = ['JAN(2021)','FEB(2021)','MAR(2021)','APR(2021)','MAY(2021)','JUN(2021)','JUL(2021)','AUG(2021)','SEP(2021)','OCT(2021)','NOV(2021)','DEC(2021)']"
   ]
  },
  {
   "cell_type": "code",
   "execution_count": 36,
   "metadata": {},
   "outputs": [],
   "source": [
    "# calculate the mean from monthly values\n",
    "cities_aqi_df['2021_calculated'] = cities_aqi_df[monthly_2021_cols].mean(axis=1)"
   ]
  },
  {
   "cell_type": "code",
   "execution_count": 37,
   "metadata": {},
   "outputs": [],
   "source": [
    "cities_aqi_df[\"2021_difference\"] = cities_aqi_df[\"2021\"] - cities_aqi_df[\"2021_calculated\"]"
   ]
  },
  {
   "cell_type": "code",
   "execution_count": 38,
   "metadata": {},
   "outputs": [
    {
     "data": {
      "text/plain": [
       "count    6475.000000\n",
       "mean        0.039291\n",
       "std         0.760093\n",
       "min       -15.445455\n",
       "25%        -0.054545\n",
       "50%         0.016667\n",
       "75%         0.141667\n",
       "max        10.208333\n",
       "Name: 2021_difference, dtype: float64"
      ]
     },
     "execution_count": 38,
     "metadata": {},
     "output_type": "execute_result"
    }
   ],
   "source": [
    "cities_aqi_df[\"2021_difference\"].describe()"
   ]
  },
  {
   "cell_type": "code",
   "execution_count": 39,
   "metadata": {},
   "outputs": [],
   "source": [
    "# looking at the statistics, 75% of the values are under 0.14. Dropping 2021 monthly values in favor of provided yearly\n",
    "cities_aqi_df.drop(columns=monthly_2021_cols, inplace=True)"
   ]
  },
  {
   "cell_type": "code",
   "execution_count": 40,
   "metadata": {},
   "outputs": [],
   "source": [
    "cities_aqi_df.drop(columns=['2021_calculated', '2021_difference'], inplace=True)"
   ]
  },
  {
   "cell_type": "code",
   "execution_count": 41,
   "metadata": {},
   "outputs": [
    {
     "data": {
      "text/html": [
       "<div>\n",
       "<style scoped>\n",
       "    .dataframe tbody tr th:only-of-type {\n",
       "        vertical-align: middle;\n",
       "    }\n",
       "\n",
       "    .dataframe tbody tr th {\n",
       "        vertical-align: top;\n",
       "    }\n",
       "\n",
       "    .dataframe thead th {\n",
       "        text-align: right;\n",
       "    }\n",
       "</style>\n",
       "<table border=\"1\" class=\"dataframe\">\n",
       "  <thead>\n",
       "    <tr style=\"text-align: right;\">\n",
       "      <th></th>\n",
       "      <th>Rank</th>\n",
       "      <th>City</th>\n",
       "      <th>2021</th>\n",
       "      <th>2020</th>\n",
       "      <th>2019</th>\n",
       "      <th>2018</th>\n",
       "      <th>2017</th>\n",
       "    </tr>\n",
       "  </thead>\n",
       "  <tbody>\n",
       "    <tr>\n",
       "      <th>0</th>\n",
       "      <td>1</td>\n",
       "      <td>Bhiwadi, India</td>\n",
       "      <td>106.2</td>\n",
       "      <td>95.5</td>\n",
       "      <td>83.4</td>\n",
       "      <td>125.4</td>\n",
       "      <td>NaN</td>\n",
       "    </tr>\n",
       "    <tr>\n",
       "      <th>1</th>\n",
       "      <td>2</td>\n",
       "      <td>Ghaziabad, India</td>\n",
       "      <td>102.0</td>\n",
       "      <td>106.6</td>\n",
       "      <td>110.2</td>\n",
       "      <td>135.2</td>\n",
       "      <td>144.6</td>\n",
       "    </tr>\n",
       "    <tr>\n",
       "      <th>2</th>\n",
       "      <td>3</td>\n",
       "      <td>Hotan, China</td>\n",
       "      <td>101.5</td>\n",
       "      <td>110.2</td>\n",
       "      <td>110.1</td>\n",
       "      <td>116.0</td>\n",
       "      <td>91.9</td>\n",
       "    </tr>\n",
       "    <tr>\n",
       "      <th>3</th>\n",
       "      <td>4</td>\n",
       "      <td>Delhi, India</td>\n",
       "      <td>96.4</td>\n",
       "      <td>84.1</td>\n",
       "      <td>98.6</td>\n",
       "      <td>113.5</td>\n",
       "      <td>108.2</td>\n",
       "    </tr>\n",
       "    <tr>\n",
       "      <th>4</th>\n",
       "      <td>5</td>\n",
       "      <td>Jaunpur, India</td>\n",
       "      <td>95.3</td>\n",
       "      <td>NaN</td>\n",
       "      <td>NaN</td>\n",
       "      <td>NaN</td>\n",
       "      <td>NaN</td>\n",
       "    </tr>\n",
       "    <tr>\n",
       "      <th>...</th>\n",
       "      <td>...</td>\n",
       "      <td>...</td>\n",
       "      <td>...</td>\n",
       "      <td>...</td>\n",
       "      <td>...</td>\n",
       "      <td>...</td>\n",
       "      <td>...</td>\n",
       "    </tr>\n",
       "    <tr>\n",
       "      <th>6470</th>\n",
       "      <td>6471</td>\n",
       "      <td>Mornington, Australia</td>\n",
       "      <td>2.4</td>\n",
       "      <td>3.2</td>\n",
       "      <td>3.8</td>\n",
       "      <td>3.0</td>\n",
       "      <td>3.9</td>\n",
       "    </tr>\n",
       "    <tr>\n",
       "      <th>6471</th>\n",
       "      <td>6472</td>\n",
       "      <td>Emu River, Australia</td>\n",
       "      <td>2.1</td>\n",
       "      <td>2.6</td>\n",
       "      <td>2.5</td>\n",
       "      <td>2.6</td>\n",
       "      <td>2.3</td>\n",
       "    </tr>\n",
       "    <tr>\n",
       "      <th>6472</th>\n",
       "      <td>6473</td>\n",
       "      <td>Judbury, Australia</td>\n",
       "      <td>2.0</td>\n",
       "      <td>2.4</td>\n",
       "      <td>5.7</td>\n",
       "      <td>2.2</td>\n",
       "      <td>1.9</td>\n",
       "    </tr>\n",
       "    <tr>\n",
       "      <th>6473</th>\n",
       "      <td>6474</td>\n",
       "      <td>St Helens, Australia</td>\n",
       "      <td>1.9</td>\n",
       "      <td>2.4</td>\n",
       "      <td>2.4</td>\n",
       "      <td>2.9</td>\n",
       "      <td>3.3</td>\n",
       "    </tr>\n",
       "    <tr>\n",
       "      <th>6474</th>\n",
       "      <td>6475</td>\n",
       "      <td>Chu, Kazakhstan</td>\n",
       "      <td>1.5</td>\n",
       "      <td>NaN</td>\n",
       "      <td>NaN</td>\n",
       "      <td>NaN</td>\n",
       "      <td>NaN</td>\n",
       "    </tr>\n",
       "  </tbody>\n",
       "</table>\n",
       "<p>6475 rows × 7 columns</p>\n",
       "</div>"
      ],
      "text/plain": [
       "      Rank                   City   2021   2020   2019   2018   2017\n",
       "0        1         Bhiwadi, India  106.2   95.5   83.4  125.4    NaN\n",
       "1        2       Ghaziabad, India  102.0  106.6  110.2  135.2  144.6\n",
       "2        3           Hotan, China  101.5  110.2  110.1  116.0   91.9\n",
       "3        4           Delhi, India   96.4   84.1   98.6  113.5  108.2\n",
       "4        5         Jaunpur, India   95.3    NaN    NaN    NaN    NaN\n",
       "...    ...                    ...    ...    ...    ...    ...    ...\n",
       "6470  6471  Mornington, Australia    2.4    3.2    3.8    3.0    3.9\n",
       "6471  6472   Emu River, Australia    2.1    2.6    2.5    2.6    2.3\n",
       "6472  6473     Judbury, Australia    2.0    2.4    5.7    2.2    1.9\n",
       "6473  6474   St Helens, Australia    1.9    2.4    2.4    2.9    3.3\n",
       "6474  6475        Chu, Kazakhstan    1.5    NaN    NaN    NaN    NaN\n",
       "\n",
       "[6475 rows x 7 columns]"
      ]
     },
     "execution_count": 41,
     "metadata": {},
     "output_type": "execute_result"
    }
   ],
   "source": [
    "cities_aqi_df"
   ]
  },
  {
   "cell_type": "markdown",
   "metadata": {},
   "source": [
    "### **Tidiness Issue 1:** Multiple variables stored in the same column."
   ]
  },
  {
   "cell_type": "code",
   "execution_count": 42,
   "metadata": {},
   "outputs": [],
   "source": [
    "# country name\n",
    "cities_aqi_df['country'] = cities_aqi_df['City'].str.split(\",\", expand=True)[1]"
   ]
  },
  {
   "cell_type": "code",
   "execution_count": 43,
   "metadata": {},
   "outputs": [],
   "source": [
    "cities_aqi_df['City'] = cities_aqi_df['City'].str.split(\",\", expand=True)[0]"
   ]
  },
  {
   "cell_type": "code",
   "execution_count": 44,
   "metadata": {},
   "outputs": [
    {
     "data": {
      "text/html": [
       "<div>\n",
       "<style scoped>\n",
       "    .dataframe tbody tr th:only-of-type {\n",
       "        vertical-align: middle;\n",
       "    }\n",
       "\n",
       "    .dataframe tbody tr th {\n",
       "        vertical-align: top;\n",
       "    }\n",
       "\n",
       "    .dataframe thead th {\n",
       "        text-align: right;\n",
       "    }\n",
       "</style>\n",
       "<table border=\"1\" class=\"dataframe\">\n",
       "  <thead>\n",
       "    <tr style=\"text-align: right;\">\n",
       "      <th></th>\n",
       "      <th>Rank</th>\n",
       "      <th>City</th>\n",
       "      <th>2021</th>\n",
       "      <th>2020</th>\n",
       "      <th>2019</th>\n",
       "      <th>2018</th>\n",
       "      <th>2017</th>\n",
       "      <th>country</th>\n",
       "    </tr>\n",
       "  </thead>\n",
       "  <tbody>\n",
       "    <tr>\n",
       "      <th>0</th>\n",
       "      <td>1</td>\n",
       "      <td>Bhiwadi</td>\n",
       "      <td>106.2</td>\n",
       "      <td>95.5</td>\n",
       "      <td>83.4</td>\n",
       "      <td>125.4</td>\n",
       "      <td>NaN</td>\n",
       "      <td>India</td>\n",
       "    </tr>\n",
       "    <tr>\n",
       "      <th>1</th>\n",
       "      <td>2</td>\n",
       "      <td>Ghaziabad</td>\n",
       "      <td>102.0</td>\n",
       "      <td>106.6</td>\n",
       "      <td>110.2</td>\n",
       "      <td>135.2</td>\n",
       "      <td>144.6</td>\n",
       "      <td>India</td>\n",
       "    </tr>\n",
       "    <tr>\n",
       "      <th>2</th>\n",
       "      <td>3</td>\n",
       "      <td>Hotan</td>\n",
       "      <td>101.5</td>\n",
       "      <td>110.2</td>\n",
       "      <td>110.1</td>\n",
       "      <td>116.0</td>\n",
       "      <td>91.9</td>\n",
       "      <td>China</td>\n",
       "    </tr>\n",
       "    <tr>\n",
       "      <th>3</th>\n",
       "      <td>4</td>\n",
       "      <td>Delhi</td>\n",
       "      <td>96.4</td>\n",
       "      <td>84.1</td>\n",
       "      <td>98.6</td>\n",
       "      <td>113.5</td>\n",
       "      <td>108.2</td>\n",
       "      <td>India</td>\n",
       "    </tr>\n",
       "    <tr>\n",
       "      <th>4</th>\n",
       "      <td>5</td>\n",
       "      <td>Jaunpur</td>\n",
       "      <td>95.3</td>\n",
       "      <td>NaN</td>\n",
       "      <td>NaN</td>\n",
       "      <td>NaN</td>\n",
       "      <td>NaN</td>\n",
       "      <td>India</td>\n",
       "    </tr>\n",
       "  </tbody>\n",
       "</table>\n",
       "</div>"
      ],
      "text/plain": [
       "   Rank       City   2021   2020   2019   2018   2017 country\n",
       "0     1    Bhiwadi  106.2   95.5   83.4  125.4    NaN   India\n",
       "1     2  Ghaziabad  102.0  106.6  110.2  135.2  144.6   India\n",
       "2     3      Hotan  101.5  110.2  110.1  116.0   91.9   China\n",
       "3     4      Delhi   96.4   84.1   98.6  113.5  108.2   India\n",
       "4     5    Jaunpur   95.3    NaN    NaN    NaN    NaN   India"
      ]
     },
     "execution_count": 44,
     "metadata": {},
     "output_type": "execute_result"
    }
   ],
   "source": [
    "cities_aqi_df.head()"
   ]
  },
  {
   "cell_type": "markdown",
   "metadata": {},
   "source": [
    "### **Tidiness Issue 2:** Column header are values not names"
   ]
  },
  {
   "cell_type": "code",
   "execution_count": 45,
   "metadata": {},
   "outputs": [],
   "source": [
    "cities_aqi_meltdf = pd.melt(cities_aqi_df,\n",
    "                        id_vars=['City', 'country'],\n",
    "                        value_vars=['2021','2020', '2019', '2018', '2017'],\n",
    "                        var_name='year',\n",
    "                        value_name='air_quality_index'\n",
    "                        )"
   ]
  },
  {
   "cell_type": "code",
   "execution_count": 46,
   "metadata": {},
   "outputs": [
    {
     "data": {
      "text/html": [
       "<div>\n",
       "<style scoped>\n",
       "    .dataframe tbody tr th:only-of-type {\n",
       "        vertical-align: middle;\n",
       "    }\n",
       "\n",
       "    .dataframe tbody tr th {\n",
       "        vertical-align: top;\n",
       "    }\n",
       "\n",
       "    .dataframe thead th {\n",
       "        text-align: right;\n",
       "    }\n",
       "</style>\n",
       "<table border=\"1\" class=\"dataframe\">\n",
       "  <thead>\n",
       "    <tr style=\"text-align: right;\">\n",
       "      <th></th>\n",
       "      <th>City</th>\n",
       "      <th>country</th>\n",
       "      <th>year</th>\n",
       "      <th>air_quality_index</th>\n",
       "    </tr>\n",
       "  </thead>\n",
       "  <tbody>\n",
       "    <tr>\n",
       "      <th>0</th>\n",
       "      <td>Bhiwadi</td>\n",
       "      <td>India</td>\n",
       "      <td>2021</td>\n",
       "      <td>106.2</td>\n",
       "    </tr>\n",
       "    <tr>\n",
       "      <th>1</th>\n",
       "      <td>Ghaziabad</td>\n",
       "      <td>India</td>\n",
       "      <td>2021</td>\n",
       "      <td>102.0</td>\n",
       "    </tr>\n",
       "    <tr>\n",
       "      <th>2</th>\n",
       "      <td>Hotan</td>\n",
       "      <td>China</td>\n",
       "      <td>2021</td>\n",
       "      <td>101.5</td>\n",
       "    </tr>\n",
       "    <tr>\n",
       "      <th>3</th>\n",
       "      <td>Delhi</td>\n",
       "      <td>India</td>\n",
       "      <td>2021</td>\n",
       "      <td>96.4</td>\n",
       "    </tr>\n",
       "    <tr>\n",
       "      <th>4</th>\n",
       "      <td>Jaunpur</td>\n",
       "      <td>India</td>\n",
       "      <td>2021</td>\n",
       "      <td>95.3</td>\n",
       "    </tr>\n",
       "    <tr>\n",
       "      <th>...</th>\n",
       "      <td>...</td>\n",
       "      <td>...</td>\n",
       "      <td>...</td>\n",
       "      <td>...</td>\n",
       "    </tr>\n",
       "    <tr>\n",
       "      <th>32370</th>\n",
       "      <td>Mornington</td>\n",
       "      <td>Australia</td>\n",
       "      <td>2017</td>\n",
       "      <td>3.9</td>\n",
       "    </tr>\n",
       "    <tr>\n",
       "      <th>32371</th>\n",
       "      <td>Emu River</td>\n",
       "      <td>Australia</td>\n",
       "      <td>2017</td>\n",
       "      <td>2.3</td>\n",
       "    </tr>\n",
       "    <tr>\n",
       "      <th>32372</th>\n",
       "      <td>Judbury</td>\n",
       "      <td>Australia</td>\n",
       "      <td>2017</td>\n",
       "      <td>1.9</td>\n",
       "    </tr>\n",
       "    <tr>\n",
       "      <th>32373</th>\n",
       "      <td>St Helens</td>\n",
       "      <td>Australia</td>\n",
       "      <td>2017</td>\n",
       "      <td>3.3</td>\n",
       "    </tr>\n",
       "    <tr>\n",
       "      <th>32374</th>\n",
       "      <td>Chu</td>\n",
       "      <td>Kazakhstan</td>\n",
       "      <td>2017</td>\n",
       "      <td>NaN</td>\n",
       "    </tr>\n",
       "  </tbody>\n",
       "</table>\n",
       "<p>32375 rows × 4 columns</p>\n",
       "</div>"
      ],
      "text/plain": [
       "             City      country  year  air_quality_index\n",
       "0         Bhiwadi        India  2021              106.2\n",
       "1       Ghaziabad        India  2021              102.0\n",
       "2           Hotan        China  2021              101.5\n",
       "3           Delhi        India  2021               96.4\n",
       "4         Jaunpur        India  2021               95.3\n",
       "...           ...          ...   ...                ...\n",
       "32370  Mornington    Australia  2017                3.9\n",
       "32371   Emu River    Australia  2017                2.3\n",
       "32372     Judbury    Australia  2017                1.9\n",
       "32373   St Helens    Australia  2017                3.3\n",
       "32374         Chu   Kazakhstan  2017                NaN\n",
       "\n",
       "[32375 rows x 4 columns]"
      ]
     },
     "execution_count": 46,
     "metadata": {},
     "output_type": "execute_result"
    }
   ],
   "source": [
    "cities_aqi_meltdf"
   ]
  },
  {
   "cell_type": "markdown",
   "metadata": {},
   "source": [
    "### **Remove unnecessary variables and combine datasets**\n",
    "\n",
    "Depending on the datasets, you can also peform the combination before the cleaning steps."
   ]
  },
  {
   "cell_type": "markdown",
   "metadata": {},
   "source": [
    "Creating a country-level dataframe from cities air quality index"
   ]
  },
  {
   "cell_type": "code",
   "execution_count": 47,
   "metadata": {},
   "outputs": [],
   "source": [
    "cities_aqi_meltdf['air_quality_index'] = cities_aqi_meltdf['air_quality_index'].astype(float)"
   ]
  },
  {
   "cell_type": "code",
   "execution_count": 48,
   "metadata": {},
   "outputs": [
    {
     "data": {
      "text/html": [
       "<div>\n",
       "<style scoped>\n",
       "    .dataframe tbody tr th:only-of-type {\n",
       "        vertical-align: middle;\n",
       "    }\n",
       "\n",
       "    .dataframe tbody tr th {\n",
       "        vertical-align: top;\n",
       "    }\n",
       "\n",
       "    .dataframe thead th {\n",
       "        text-align: right;\n",
       "    }\n",
       "</style>\n",
       "<table border=\"1\" class=\"dataframe\">\n",
       "  <thead>\n",
       "    <tr style=\"text-align: right;\">\n",
       "      <th></th>\n",
       "      <th>country</th>\n",
       "      <th>year</th>\n",
       "      <th>air_quality_index</th>\n",
       "    </tr>\n",
       "  </thead>\n",
       "  <tbody>\n",
       "    <tr>\n",
       "      <th>0</th>\n",
       "      <td>Afghanistan</td>\n",
       "      <td>2017</td>\n",
       "      <td>NaN</td>\n",
       "    </tr>\n",
       "    <tr>\n",
       "      <th>1</th>\n",
       "      <td>Afghanistan</td>\n",
       "      <td>2018</td>\n",
       "      <td>61.800000</td>\n",
       "    </tr>\n",
       "    <tr>\n",
       "      <th>2</th>\n",
       "      <td>Afghanistan</td>\n",
       "      <td>2019</td>\n",
       "      <td>58.800000</td>\n",
       "    </tr>\n",
       "    <tr>\n",
       "      <th>3</th>\n",
       "      <td>Afghanistan</td>\n",
       "      <td>2020</td>\n",
       "      <td>46.500000</td>\n",
       "    </tr>\n",
       "    <tr>\n",
       "      <th>4</th>\n",
       "      <td>Afghanistan</td>\n",
       "      <td>2021</td>\n",
       "      <td>37.500000</td>\n",
       "    </tr>\n",
       "    <tr>\n",
       "      <th>...</th>\n",
       "      <td>...</td>\n",
       "      <td>...</td>\n",
       "      <td>...</td>\n",
       "    </tr>\n",
       "    <tr>\n",
       "      <th>585</th>\n",
       "      <td>Vietnam</td>\n",
       "      <td>2017</td>\n",
       "      <td>34.700000</td>\n",
       "    </tr>\n",
       "    <tr>\n",
       "      <th>586</th>\n",
       "      <td>Vietnam</td>\n",
       "      <td>2018</td>\n",
       "      <td>33.850000</td>\n",
       "    </tr>\n",
       "    <tr>\n",
       "      <th>587</th>\n",
       "      <td>Vietnam</td>\n",
       "      <td>2019</td>\n",
       "      <td>31.675000</td>\n",
       "    </tr>\n",
       "    <tr>\n",
       "      <th>588</th>\n",
       "      <td>Vietnam</td>\n",
       "      <td>2020</td>\n",
       "      <td>25.750000</td>\n",
       "    </tr>\n",
       "    <tr>\n",
       "      <th>589</th>\n",
       "      <td>Vietnam</td>\n",
       "      <td>2021</td>\n",
       "      <td>24.533333</td>\n",
       "    </tr>\n",
       "  </tbody>\n",
       "</table>\n",
       "<p>590 rows × 3 columns</p>\n",
       "</div>"
      ],
      "text/plain": [
       "          country  year  air_quality_index\n",
       "0     Afghanistan  2017                NaN\n",
       "1     Afghanistan  2018          61.800000\n",
       "2     Afghanistan  2019          58.800000\n",
       "3     Afghanistan  2020          46.500000\n",
       "4     Afghanistan  2021          37.500000\n",
       "..            ...   ...                ...\n",
       "585       Vietnam  2017          34.700000\n",
       "586       Vietnam  2018          33.850000\n",
       "587       Vietnam  2019          31.675000\n",
       "588       Vietnam  2020          25.750000\n",
       "589       Vietnam  2021          24.533333\n",
       "\n",
       "[590 rows x 3 columns]"
      ]
     },
     "execution_count": 48,
     "metadata": {},
     "output_type": "execute_result"
    }
   ],
   "source": [
    "#FILL IN - Remove unnecessary variables and combine datasets\n",
    "countries_aqi_df = cities_aqi_meltdf.groupby(['country', 'year'])['air_quality_index'].mean().reset_index()\n",
    "countries_aqi_df"
   ]
  },
  {
   "cell_type": "markdown",
   "metadata": {},
   "source": [
    "Join both dataframes to get the population and air quality index on the same dataframe"
   ]
  },
  {
   "cell_type": "code",
   "execution_count": 49,
   "metadata": {},
   "outputs": [],
   "source": [
    "countries_aqi_df['country'] = countries_aqi_df['country'].astype(str).str.strip()\n",
    "countries_aqi_df['year'] = countries_aqi_df['year'].astype(int)"
   ]
  },
  {
   "cell_type": "code",
   "execution_count": 50,
   "metadata": {},
   "outputs": [],
   "source": [
    "countries_population_meltdf['Country Name'] = countries_population_meltdf['Country Name'].astype(str).str.strip()\n",
    "countries_population_meltdf['Year'] = countries_population_meltdf['Year'].astype(int)"
   ]
  },
  {
   "cell_type": "code",
   "execution_count": 51,
   "metadata": {},
   "outputs": [],
   "source": [
    "merged_df = pd.merge(left=countries_aqi_df,\n",
    "                    right=countries_population_meltdf,\n",
    "                    left_on=['country', 'year'],\n",
    "                    right_on=['Country Name', 'Year'],\n",
    "                    how='left')"
   ]
  },
  {
   "cell_type": "code",
   "execution_count": 52,
   "metadata": {},
   "outputs": [
    {
     "data": {
      "text/html": [
       "<div>\n",
       "<style scoped>\n",
       "    .dataframe tbody tr th:only-of-type {\n",
       "        vertical-align: middle;\n",
       "    }\n",
       "\n",
       "    .dataframe tbody tr th {\n",
       "        vertical-align: top;\n",
       "    }\n",
       "\n",
       "    .dataframe thead th {\n",
       "        text-align: right;\n",
       "    }\n",
       "</style>\n",
       "<table border=\"1\" class=\"dataframe\">\n",
       "  <thead>\n",
       "    <tr style=\"text-align: right;\">\n",
       "      <th></th>\n",
       "      <th>country</th>\n",
       "      <th>year</th>\n",
       "      <th>air_quality_index</th>\n",
       "      <th>Country Name</th>\n",
       "      <th>Country Code</th>\n",
       "      <th>Year</th>\n",
       "      <th>population</th>\n",
       "    </tr>\n",
       "  </thead>\n",
       "  <tbody>\n",
       "    <tr>\n",
       "      <th>0</th>\n",
       "      <td>Afghanistan</td>\n",
       "      <td>2017</td>\n",
       "      <td>NaN</td>\n",
       "      <td>Afghanistan</td>\n",
       "      <td>AFG</td>\n",
       "      <td>2017.0</td>\n",
       "      <td>36296111.0</td>\n",
       "    </tr>\n",
       "    <tr>\n",
       "      <th>1</th>\n",
       "      <td>Afghanistan</td>\n",
       "      <td>2018</td>\n",
       "      <td>61.800000</td>\n",
       "      <td>Afghanistan</td>\n",
       "      <td>AFG</td>\n",
       "      <td>2018.0</td>\n",
       "      <td>37171922.0</td>\n",
       "    </tr>\n",
       "    <tr>\n",
       "      <th>2</th>\n",
       "      <td>Afghanistan</td>\n",
       "      <td>2019</td>\n",
       "      <td>58.800000</td>\n",
       "      <td>Afghanistan</td>\n",
       "      <td>AFG</td>\n",
       "      <td>2019.0</td>\n",
       "      <td>38041757.0</td>\n",
       "    </tr>\n",
       "    <tr>\n",
       "      <th>3</th>\n",
       "      <td>Afghanistan</td>\n",
       "      <td>2020</td>\n",
       "      <td>46.500000</td>\n",
       "      <td>Afghanistan</td>\n",
       "      <td>AFG</td>\n",
       "      <td>2020.0</td>\n",
       "      <td>38928341.0</td>\n",
       "    </tr>\n",
       "    <tr>\n",
       "      <th>4</th>\n",
       "      <td>Afghanistan</td>\n",
       "      <td>2021</td>\n",
       "      <td>37.500000</td>\n",
       "      <td>Afghanistan</td>\n",
       "      <td>AFG</td>\n",
       "      <td>2021.0</td>\n",
       "      <td>39835428.0</td>\n",
       "    </tr>\n",
       "    <tr>\n",
       "      <th>...</th>\n",
       "      <td>...</td>\n",
       "      <td>...</td>\n",
       "      <td>...</td>\n",
       "      <td>...</td>\n",
       "      <td>...</td>\n",
       "      <td>...</td>\n",
       "      <td>...</td>\n",
       "    </tr>\n",
       "    <tr>\n",
       "      <th>585</th>\n",
       "      <td>Vietnam</td>\n",
       "      <td>2017</td>\n",
       "      <td>34.700000</td>\n",
       "      <td>Vietnam</td>\n",
       "      <td>VNM</td>\n",
       "      <td>2017.0</td>\n",
       "      <td>94600643.0</td>\n",
       "    </tr>\n",
       "    <tr>\n",
       "      <th>586</th>\n",
       "      <td>Vietnam</td>\n",
       "      <td>2018</td>\n",
       "      <td>33.850000</td>\n",
       "      <td>Vietnam</td>\n",
       "      <td>VNM</td>\n",
       "      <td>2018.0</td>\n",
       "      <td>95545959.0</td>\n",
       "    </tr>\n",
       "    <tr>\n",
       "      <th>587</th>\n",
       "      <td>Vietnam</td>\n",
       "      <td>2019</td>\n",
       "      <td>31.675000</td>\n",
       "      <td>Vietnam</td>\n",
       "      <td>VNM</td>\n",
       "      <td>2019.0</td>\n",
       "      <td>96462108.0</td>\n",
       "    </tr>\n",
       "    <tr>\n",
       "      <th>588</th>\n",
       "      <td>Vietnam</td>\n",
       "      <td>2020</td>\n",
       "      <td>25.750000</td>\n",
       "      <td>Vietnam</td>\n",
       "      <td>VNM</td>\n",
       "      <td>2020.0</td>\n",
       "      <td>97338583.0</td>\n",
       "    </tr>\n",
       "    <tr>\n",
       "      <th>589</th>\n",
       "      <td>Vietnam</td>\n",
       "      <td>2021</td>\n",
       "      <td>24.533333</td>\n",
       "      <td>Vietnam</td>\n",
       "      <td>VNM</td>\n",
       "      <td>2021.0</td>\n",
       "      <td>98168829.0</td>\n",
       "    </tr>\n",
       "  </tbody>\n",
       "</table>\n",
       "<p>590 rows × 7 columns</p>\n",
       "</div>"
      ],
      "text/plain": [
       "         country  year  air_quality_index Country Name Country Code    Year  \\\n",
       "0    Afghanistan  2017                NaN  Afghanistan          AFG  2017.0   \n",
       "1    Afghanistan  2018          61.800000  Afghanistan          AFG  2018.0   \n",
       "2    Afghanistan  2019          58.800000  Afghanistan          AFG  2019.0   \n",
       "3    Afghanistan  2020          46.500000  Afghanistan          AFG  2020.0   \n",
       "4    Afghanistan  2021          37.500000  Afghanistan          AFG  2021.0   \n",
       "..           ...   ...                ...          ...          ...     ...   \n",
       "585      Vietnam  2017          34.700000      Vietnam          VNM  2017.0   \n",
       "586      Vietnam  2018          33.850000      Vietnam          VNM  2018.0   \n",
       "587      Vietnam  2019          31.675000      Vietnam          VNM  2019.0   \n",
       "588      Vietnam  2020          25.750000      Vietnam          VNM  2020.0   \n",
       "589      Vietnam  2021          24.533333      Vietnam          VNM  2021.0   \n",
       "\n",
       "     population  \n",
       "0    36296111.0  \n",
       "1    37171922.0  \n",
       "2    38041757.0  \n",
       "3    38928341.0  \n",
       "4    39835428.0  \n",
       "..          ...  \n",
       "585  94600643.0  \n",
       "586  95545959.0  \n",
       "587  96462108.0  \n",
       "588  97338583.0  \n",
       "589  98168829.0  \n",
       "\n",
       "[590 rows x 7 columns]"
      ]
     },
     "execution_count": 52,
     "metadata": {},
     "output_type": "execute_result"
    }
   ],
   "source": [
    "merged_df"
   ]
  },
  {
   "cell_type": "code",
   "execution_count": 53,
   "metadata": {},
   "outputs": [
    {
     "data": {
      "text/plain": [
       "['Bahamas',\n",
       " 'Bonaire',\n",
       " 'Bosnia Herzegovina',\n",
       " 'Cape Verde',\n",
       " 'Egypt',\n",
       " 'Hong Kong SAR',\n",
       " 'Iran',\n",
       " 'Kyrgyzstan',\n",
       " 'Laos',\n",
       " 'Macao SAR',\n",
       " 'Russia',\n",
       " 'Slovakia',\n",
       " 'South Korea',\n",
       " 'Syria',\n",
       " 'Taiwan',\n",
       " 'Turkey',\n",
       " 'U.S. Virgin Islands',\n",
       " 'USA']"
      ]
     },
     "execution_count": 53,
     "metadata": {},
     "output_type": "execute_result"
    }
   ],
   "source": [
    "# countries not found\n",
    "countries_not_found = merged_df[merged_df['population'].isnull()]['country'].unique().tolist()\n",
    "countries_not_found"
   ]
  },
  {
   "cell_type": "code",
   "execution_count": 54,
   "metadata": {},
   "outputs": [],
   "source": [
    "from difflib import get_close_matches\n",
    "\n",
    "# Function to find similar strings in a dataframe column\n",
    "def find_similar_strings(df, column_name, search_string, n=2, cutoff=0.4):\n",
    "    unique_values = df[column_name].unique()\n",
    "    similar_strings = get_close_matches(search_string, unique_values, n=n, cutoff=cutoff)\n",
    "    return similar_strings\n"
   ]
  },
  {
   "cell_type": "code",
   "execution_count": 55,
   "metadata": {},
   "outputs": [
    {
     "name": "stdout",
     "output_type": "stream",
     "text": [
      "match for Bahamas is ['Bahamas, The', 'Panama']\n",
      "match for Bonaire is ['Botswana', 'Tonga']\n",
      "match for Bosnia Herzegovina is ['Bosnia and Herzegovina', 'Bolivia']\n",
      "match for Cape Verde is ['Cabo Verde', 'Cameroon']\n",
      "match for Egypt is ['Egypt, Arab Rep.']\n",
      "match for Hong Kong SAR is ['Hong Kong SAR, China', 'Congo, Rep.']\n",
      "match for Iran is ['Iraq', 'Ireland']\n",
      "match for Kyrgyzstan is ['Kazakhstan', 'Uzbekistan']\n",
      "match for Laos is ['Lebanon', 'Lao PDR']\n",
      "match for Macao SAR is ['Macao SAR, China', 'Monaco']\n",
      "match for Russia is ['Tunisia', 'Austria']\n",
      "match for Slovakia is ['Slovenia', 'Somalia']\n",
      "match for South Korea is ['South Africa', 'South Asia']\n",
      "match for Syria is ['Serbia', 'Suriname']\n",
      "match for Taiwan is ['Thailand', 'Tajikistan']\n",
      "match for Turkey is ['Turkiye', 'Turkmenistan']\n",
      "match for U.S. Virgin Islands is ['British Virgin Islands', 'Virgin Islands (U.S.)']\n",
      "match for USA is []\n"
     ]
    }
   ],
   "source": [
    "for c in countries_not_found:\n",
    "    candidate = find_similar_strings(countries_population_meltdf, 'Country Name', c)\n",
    "    print(f\"match for {c} is {candidate}\")\n",
    "    #print(f\"countries_population_meltdf.loc[countries_population_meltdf['Country Name'] == '{candidate}' , 'Country Name'] = '{c}'\")"
   ]
  },
  {
   "cell_type": "markdown",
   "metadata": {},
   "source": [
    "Based on the matching above and visual inspection, update the countries dataframe to improve joining"
   ]
  },
  {
   "cell_type": "code",
   "execution_count": 56,
   "metadata": {},
   "outputs": [],
   "source": [
    "countries_population_meltdf.loc[countries_population_meltdf['Country Name'] == \"Bahamas, The\", 'Country Name'] = \"Bahamas\"\n",
    "countries_population_meltdf.loc[countries_population_meltdf['Country Name'] =='Bosnia and Herzegovina' , 'Country Name'] = 'Bosnia Herzegovina'\n",
    "countries_population_meltdf.loc[countries_population_meltdf['Country Name'] =='Cabo Verde', 'Country Name'] = 'Cape Verde'\n",
    "countries_population_meltdf.loc[countries_population_meltdf['Country Name'] =='Egypt, Arab Rep.' , 'Country Name'] = 'Egypt'\n",
    "countries_population_meltdf.loc[countries_population_meltdf['Country Name'] =='Hong Kong SAR, China' , 'Country Name'] = 'Hong Kong SAR'\n",
    "countries_population_meltdf.loc[countries_population_meltdf['Country Name'] =='Iran, Islamic Rep.' , 'Country Name'] = 'Iran'\n",
    "countries_population_meltdf.loc[countries_population_meltdf['Country Name'] =='Lao PDR' , 'Country Name'] = 'Laos'\n",
    "countries_population_meltdf.loc[countries_population_meltdf['Country Name'] =='Macao SAR, China' , 'Country Name'] = 'Macao SAR'\n",
    "countries_population_meltdf.loc[countries_population_meltdf['Country Name'] =='Russian Federation' , 'Country Name'] = 'Russia'\n",
    "countries_population_meltdf.loc[countries_population_meltdf['Country Name'] =='Slovak Republic' , 'Country Name'] = 'Slovakia'\n",
    "countries_population_meltdf.loc[countries_population_meltdf['Country Name'] =='Korea, Rep.' , 'Country Name'] = 'South Korea'\n",
    "countries_population_meltdf.loc[countries_population_meltdf['Country Name'] =='Syrian Arab Republic' , 'Country Name'] = 'Syria'\n",
    "countries_population_meltdf.loc[countries_population_meltdf['Country Name'] =='Turkiye', 'Country Name'] = 'Turkey'\n",
    "countries_population_meltdf.loc[countries_population_meltdf['Country Name'] =='Virgin Islands (U.S.)', 'Country Name'] = 'U.S. Virgin Islands'\n",
    "countries_population_meltdf.loc[countries_population_meltdf['Country Name'] =='United States' , 'Country Name'] = 'USA'"
   ]
  },
  {
   "cell_type": "code",
   "execution_count": 57,
   "metadata": {},
   "outputs": [],
   "source": [
    "merged_df = pd.merge(left=countries_aqi_df,\n",
    "                    right=countries_population_meltdf,\n",
    "                    left_on=['country', 'year'],\n",
    "                    right_on=['Country Name', 'Year'],\n",
    "                    how='left')"
   ]
  },
  {
   "cell_type": "code",
   "execution_count": 58,
   "metadata": {},
   "outputs": [
    {
     "data": {
      "text/plain": [
       "['Bonaire', 'Kyrgyzstan', 'Taiwan']"
      ]
     },
     "execution_count": 58,
     "metadata": {},
     "output_type": "execute_result"
    }
   ],
   "source": [
    "merged_df[merged_df['population'].isnull()]['country'].unique().tolist()"
   ]
  },
  {
   "cell_type": "markdown",
   "metadata": {},
   "source": [
    "After inspecting the merged dataframe, only the columns in the analysis will remain."
   ]
  },
  {
   "cell_type": "code",
   "execution_count": 59,
   "metadata": {},
   "outputs": [],
   "source": [
    "countries_df = merged_df[['country', 'year', 'air_quality_index', 'population']]"
   ]
  },
  {
   "cell_type": "markdown",
   "metadata": {
    "id": "F42urHuzttjF"
   },
   "source": [
    "## 4. Update your data store\n",
    "Update your local database/data store with the cleaned data, following best practices for storing your cleaned data:\n",
    "\n",
    "- Must maintain different instances / versions of data (raw and cleaned data)\n",
    "- Must name the dataset files informatively\n",
    "- Ensure both the raw and cleaned data is saved to your database/data store"
   ]
  },
  {
   "cell_type": "code",
   "execution_count": 60,
   "metadata": {
    "id": "V3uay7EJUV_L"
   },
   "outputs": [],
   "source": [
    "#FILL IN - saving data\n",
    "if not os.path.exists(\"countries_cleaned_dataset.csv\"):\n",
    "    countries_df.to_csv(\"countries_cleaned_dataset.csv\", index=False)"
   ]
  },
  {
   "cell_type": "markdown",
   "metadata": {
    "id": "cGy_yddGtzhM"
   },
   "source": [
    "## 5. Answer the research question\n",
    "\n",
    "### **5.1:** Define and answer the research question \n",
    "Going back to the problem statement in step 1, use the cleaned data to answer the question you raised. Produce **at least** two visualizations using the cleaned data and explain how they help you answer the question."
   ]
  },
  {
   "cell_type": "markdown",
   "metadata": {
    "id": "gjedE4s4ZkEd"
   },
   "source": [
    "*Research question:* Which are the top 10 countries with better (in average) air quality index?"
   ]
  },
  {
   "cell_type": "code",
   "execution_count": 61,
   "metadata": {},
   "outputs": [],
   "source": [
    "# Filter the top 10 countries with the best air quality index\n",
    "top_10_best_air_quality = countries_df.groupby(['country'])['air_quality_index'].mean().nsmallest(10).reset_index()"
   ]
  },
  {
   "cell_type": "code",
   "execution_count": 62,
   "metadata": {},
   "outputs": [
    {
     "name": "stderr",
     "output_type": "stream",
     "text": [
      "C:\\Users\\hhuv\\AppData\\Local\\Temp\\ipykernel_34292\\1378919530.py:6: UserWarning: set_ticklabels() should only be used with a fixed number of ticks, i.e. after set_ticks() or using a FixedLocator.\n",
      "  ax.set_xticklabels(ax.get_xticklabels(), ha='right')\n"
     ]
    },
    {
     "data": {
      "image/png": "[encoded data removed]",
      "text/plain": [
       "<Figure size 800x400 with 1 Axes>"
      ]
     },
     "metadata": {},
     "output_type": "display_data"
    }
   ],
   "source": [
    "#Create the bar chart for top 10 countries with the best air quality index\n",
    "fig, ax = plt.subplots(figsize=(8, 4))\n",
    "\n",
    "sns.barplot(data=top_10_best_air_quality, x='country', y='air_quality_index',palette=\"GnBu\", hue='country')\n",
    "ax.tick_params(axis='x', rotation=45)\n",
    "ax.set_xticklabels(ax.get_xticklabels(), ha='right')\n",
    "\n",
    "plt.title('Top 10 Countries with Best Air Quality Index')\n",
    "plt.xlabel('Country')\n",
    "plt.ylabel('Air Quality Index')\n",
    "\n",
    "plt.show()"
   ]
  },
  {
   "cell_type": "markdown",
   "metadata": {},
   "source": [
    "*Answer to research question:*  \n",
    "The country with best quality index is New Caledonia.  \n",
    "The first five countries are islands.  \n",
    "All of the top 10 are located in the Northern Hemisphere. This could be a bias in the data, as there could be more samples in the northern hemisphere."
   ]
  },
  {
   "cell_type": "markdown",
   "metadata": {},
   "source": [
    "*Research question:* Is there any relationship between population and air quality index?"
   ]
  },
  {
   "cell_type": "code",
   "execution_count": 63,
   "metadata": {},
   "outputs": [],
   "source": [
    "# summarize by year\n",
    "summary_by_year = countries_df.groupby(['year']).agg({'population': 'sum', 'air_quality_index': 'median'})"
   ]
  },
  {
   "cell_type": "code",
   "execution_count": 64,
   "metadata": {},
   "outputs": [
    {
     "data": {
      "image/png": "[encoded data removed]",
      "text/plain": [
       "<Figure size 800x400 with 2 Axes>"
      ]
     },
     "metadata": {},
     "output_type": "display_data"
    }
   ],
   "source": [
    "# Create the dual-axis line chart\n",
    "fig, ax1 = plt.subplots(figsize=(8, 4))\n",
    "\n",
    "# Plot the summed population on the primary y-axis\n",
    "sns.lineplot(data=summary_by_year, x='year', y='population', ax=ax1, marker='o', color='b')\n",
    "ax1.set_ylabel('Summed Population', color='b')\n",
    "ax1.tick_params(axis='y', labelcolor='b')\n",
    "\n",
    "# Create a secondary y-axis to plot the averaged air quality index\n",
    "ax2 = ax1.twinx()\n",
    "sns.lineplot(data=summary_by_year, x='year', y='air_quality_index', ax=ax2, marker='o', color='r')\n",
    "ax2.set_ylabel('Median Air Quality Index', color='r')\n",
    "ax2.tick_params(axis='y', labelcolor='r')\n",
    "\n",
    "# Set plot title and x-axis label\n",
    "plt.title('Summed Population and Median Air Quality Index Over Time')\n",
    "ax1.set_xlabel('Year')\n",
    "\n",
    "ax1.xaxis.get_major_locator().set_params(integer=True)\n",
    "\n",
    "# Show the plot\n",
    "plt.show()\n"
   ]
  },
  {
   "cell_type": "markdown",
   "metadata": {
    "id": "K5RgvMGUZoHn"
   },
   "source": [
    "*Answer to research question:* As population has steadly been growing, the air quality does not show the same pattern.  \n",
    "In 2020, the air quality has improved -likely due to the covid19 pandemic- and in 2021 has increase its value (decrease the quality).  \n",
    "Even after 2020, an improvement on the air quality could be seen.\n"
   ]
  },
  {
   "cell_type": "markdown",
   "metadata": {
    "id": "0ezWXXZVj-TP"
   },
   "source": [
    "### **5.2:** Reflection\n",
    "In 2-4 sentences, if you had more time to complete the project, what actions would you take? For example, which data quality and structural issues would you look into further, and what research questions would you further explore?"
   ]
  },
  {
   "cell_type": "markdown",
   "metadata": {
    "id": "XB3RBDG5kFe1"
   },
   "source": [
    "*Answer:* If I had more time, I would include more years in the analysis. There was data for population, but not for air quality data.  \n",
    "I would look for the population data by city instead of country. Additionally, some terrain data to understand how it impacts popultation grow and air quality.\n",
    "On the analysis side, the countries could be analyzed by continents."
   ]
  }
 ],
 "metadata": {
  "colab": {
   "provenance": []
  },
  "kernelspec": {
   "display_name": "venv-py312",
   "language": "python",
   "name": "python3"
  },
  "language_info": {
   "codemirror_mode": {
    "name": "ipython",
    "version": 3
   },
   "file_extension": ".py",
   "mimetype": "text/x-python",
   "name": "python",
   "nbconvert_exporter": "python",
   "pygments_lexer": "ipython3",
   "version": "3.12.8"
  }
 },
 "nbformat": 4,
 "nbformat_minor": 1
}
